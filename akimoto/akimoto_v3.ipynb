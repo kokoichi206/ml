{
  "cells": [
    {
      "cell_type": "markdown",
      "source": [
        "## data set の読み込み\n",
        "- remote から取得する\n"
      ],
      "metadata": {
        "id": "VWBMb7ghdP4R"
      }
    },
    {
      "cell_type": "code",
      "execution_count": 11,
      "metadata": {
        "id": "IzobdXett0S0",
        "colab": {
          "base_uri": "https://localhost:8080/"
        },
        "outputId": "f91fdffd-a691-4fe3-858c-96e01cd0e2dd"
      },
      "outputs": [
        {
          "output_type": "stream",
          "name": "stdout",
          "text": [
            "--2022-04-16 19:21:27--  https://kokoichi0206.mydns.jp/data/saka/akb.zip\n",
            "Resolving kokoichi0206.mydns.jp (kokoichi0206.mydns.jp)... 119.106.0.95, 240f:74:c9f6:1:dea6:32ff:feb4:6b83\n",
            "Connecting to kokoichi0206.mydns.jp (kokoichi0206.mydns.jp)|119.106.0.95|:443... connected.\n",
            "HTTP request sent, awaiting response... 200 OK\n",
            "Length: 319420982 (305M) [application/zip]\n",
            "Saving to: ‘akb.zip’\n",
            "\n",
            "akb.zip             100%[===================>] 304.62M  10.9MB/s    in 29s     \n",
            "\n",
            "2022-04-16 19:21:58 (10.3 MB/s) - ‘akb.zip’ saved [319420982/319420982]\n",
            "\n"
          ]
        }
      ],
      "source": [
        "!if [ -n akb.zip ]; then wget https://kokoichi0206.mydns.jp/data/saka/akb.zip; fi"
      ]
    },
    {
      "cell_type": "code",
      "source": [
        "!if [ -n saka.zip ]; then wget https://kokoichi0206.mydns.jp/data/saka/saka.zip; fi"
      ],
      "metadata": {
        "id": "EgS_G8u4sTP9",
        "colab": {
          "base_uri": "https://localhost:8080/"
        },
        "outputId": "95a810b8-bbb3-41c7-9773-395491e71979"
      },
      "execution_count": 12,
      "outputs": [
        {
          "output_type": "stream",
          "name": "stdout",
          "text": [
            "--2022-04-16 19:21:58--  https://kokoichi0206.mydns.jp/data/saka/saka.zip\n",
            "Resolving kokoichi0206.mydns.jp (kokoichi0206.mydns.jp)... 119.106.0.95, 240f:74:c9f6:1:dea6:32ff:feb4:6b83\n",
            "Connecting to kokoichi0206.mydns.jp (kokoichi0206.mydns.jp)|119.106.0.95|:443... connected.\n",
            "HTTP request sent, awaiting response... 200 OK\n",
            "Length: 251371198 (240M) [application/zip]\n",
            "Saving to: ‘saka.zip’\n",
            "\n",
            "saka.zip            100%[===================>] 239.73M  10.7MB/s    in 24s     \n",
            "\n",
            "2022-04-16 19:22:23 (10.0 MB/s) - ‘saka.zip’ saved [251371198/251371198]\n",
            "\n"
          ]
        }
      ]
    },
    {
      "cell_type": "code",
      "source": [
        "!if [ -n akb.zip ]; then yes | unzip akb.zip >/dev/null; fi\n",
        "!if [ -n akb.zip ]; then yes | unzip saka.zip >/dev/null; fi"
      ],
      "metadata": {
        "id": "X9kHVKSGsU_n"
      },
      "execution_count": 17,
      "outputs": []
    },
    {
      "cell_type": "code",
      "source": [
        "!ls"
      ],
      "metadata": {
        "id": "xihU-pG0u5Z0",
        "colab": {
          "base_uri": "https://localhost:8080/"
        },
        "outputId": "efe50ac0-d5c0-4097-db4d-a8f47264c546"
      },
      "execution_count": 14,
      "outputs": [
        {
          "output_type": "stream",
          "name": "stdout",
          "text": [
            "akb.zip  saka.zip  sample_data\n"
          ]
        }
      ]
    },
    {
      "cell_type": "code",
      "source": [
        "import glob\n",
        "import gc\n",
        "import numpy as np\n",
        "import os\n",
        "from PIL import Image\n",
        "from sklearn.model_selection import train_test_split\n",
        "import tensorflow as tf\n",
        "import tensorflow.keras.layers as layers\n"
      ],
      "metadata": {
        "id": "ceZ0xdQSy887"
      },
      "execution_count": 15,
      "outputs": []
    },
    {
      "cell_type": "code",
      "execution_count": 18,
      "metadata": {
        "id": "-z_GSew-47O8",
        "colab": {
          "base_uri": "https://localhost:8080/"
        },
        "outputId": "dfb084e7-cb5f-417f-b153-794b9608693d"
      },
      "outputs": [
        {
          "output_type": "stream",
          "name": "stdout",
          "text": [
            "(512, 512, 3)\n"
          ]
        }
      ],
      "source": [
        "groups = [\"akb\", \"saka\"]\n",
        "\n",
        "akbs = glob.glob(\"akb/*/*.jpg\")\n",
        "sakas = glob.glob(\"saka/*/*.jpg\")\n",
        "faces = []\n",
        "\n",
        "print(np.asarray(Image.open(akbs[0]), np.uint8).shape)\n",
        "\n",
        "\n",
        "for path in akbs:\n",
        "    with Image.open(path) as img:\n",
        "        # colabでリサイズする場合\n",
        "        img = img.resize((64, 64), Image.LANCZOS)\n",
        "        faces.append(np.asarray(img, np.uint8))\n",
        "\n",
        "for path in sakas:\n",
        "    with Image.open(path) as img:\n",
        "        img = img.resize((64, 64), Image.LANCZOS)\n",
        "        faces.append(np.asarray(img, np.uint8))\n",
        "\n",
        "X = np.array(faces)\n",
        "# 正解ラベルを作成する\n",
        "len_akbs = len(akbs)\n",
        "len_sakas = len(sakas)\n",
        "a = np.zeros((len_akbs, 1), dtype=\"float32\")\n",
        "s = np.ones((len_sakas, 1), dtype=\"float32\")\n",
        "y = np.concatenate([a, s])"
      ]
    },
    {
      "cell_type": "code",
      "source": [
        "print(type(X))\n",
        "print(type(y))"
      ],
      "metadata": {
        "colab": {
          "base_uri": "https://localhost:8080/"
        },
        "id": "7MTgZOVh421u",
        "outputId": "0649a72e-f9eb-441d-a608-422e70f3a213"
      },
      "execution_count": 19,
      "outputs": [
        {
          "output_type": "stream",
          "name": "stdout",
          "text": [
            "<class 'numpy.ndarray'>\n",
            "<class 'numpy.ndarray'>\n"
          ]
        }
      ]
    },
    {
      "cell_type": "code",
      "execution_count": 20,
      "metadata": {
        "id": "2_WlnvT76HXC",
        "colab": {
          "base_uri": "https://localhost:8080/"
        },
        "outputId": "74592914-a6e5-4f62-fe52-02512e740d93"
      },
      "outputs": [
        {
          "output_type": "stream",
          "name": "stdout",
          "text": [
            "(10193, 64, 64, 3)\n",
            "(10193, 1)\n",
            "64\n"
          ]
        }
      ],
      "source": [
        "print(X.shape)\n",
        "print(y.shape)\n",
        "print(X.shape[1])"
      ]
    },
    {
      "cell_type": "markdown",
      "source": [
        "## model の作成・訓練"
      ],
      "metadata": {
        "id": "RA2iw20Rd5zK"
      }
    },
    {
      "cell_type": "code",
      "source": [
        "import tensorflow.keras as keras\n",
        "\n",
        "data_augmentation = keras.Sequential(\n",
        "    [\n",
        "        layers.RandomFlip(\"horizontal\"),\n",
        "        layers.RandomRotation(0.1),\n",
        "        layers.RandomZoom(0.05),\n",
        "    ]\n",
        ")"
      ],
      "metadata": {
        "id": "mhPc8eYu_VJ2"
      },
      "execution_count": 22,
      "outputs": []
    },
    {
      "cell_type": "code",
      "source": [
        "IMG_SIZE = X.shape[1]\n",
        "inputs = layers.Input((IMG_SIZE, IMG_SIZE, 3))\n",
        "x = data_augmentation(inputs)\n",
        "# x = layers.Rescaling(1./255)(x)\n",
        "x = layers.Conv2D(filters=32, kernel_size=5, use_bias=False)(x)\n",
        "\n",
        "for size in [32, 64, 128, 256, 512]:\n",
        "    residual = x\n",
        "\n",
        "    x = layers.BatchNormalization()(x)\n",
        "    x = layers.Activation(\"relu\")(x)\n",
        "    x = layers.SeparableConv2D(size, 3, padding=\"same\", use_bias=False)(x)\n",
        "\n",
        "    x = layers.BatchNormalization()(x)\n",
        "    x = layers.Activation(\"relu\")(x)\n",
        "    x = layers.SeparableConv2D(size, 3, padding=\"same\", use_bias=False)(x)\n",
        "\n",
        "    x = layers.MaxPooling2D(3, strides=2, padding=\"same\")(x)\n",
        "\n",
        "    residual = layers.Conv2D(\n",
        "        size, 1, strides=2, padding=\"same\", use_bias=False)(residual)\n",
        "    x = layers.add([x, residual])\n",
        "\n",
        "x = layers.GlobalAveragePooling2D()(x)\n",
        "\n",
        "x = layers.Dropout(0.5)(x)\n",
        "outputs = layers.Dense(1, activation=\"sigmoid\")(x)\n",
        "model = keras.Model(inputs, outputs)\n",
        "model.summary()"
      ],
      "metadata": {
        "colab": {
          "base_uri": "https://localhost:8080/"
        },
        "id": "fNWBl6O64Kjq",
        "outputId": "880c9ba0-cb60-4841-d1a5-b1768c719e78"
      },
      "execution_count": 33,
      "outputs": [
        {
          "output_type": "stream",
          "name": "stdout",
          "text": [
            "Model: \"model_4\"\n",
            "__________________________________________________________________________________________________\n",
            " Layer (type)                   Output Shape         Param #     Connected to                     \n",
            "==================================================================================================\n",
            " input_7 (InputLayer)           [(None, 64, 64, 3)]  0           []                               \n",
            "                                                                                                  \n",
            " sequential (Sequential)        (None, 64, 64, 3)    0           ['input_7[0][0]']                \n",
            "                                                                                                  \n",
            " conv2d_9 (Conv2D)              (None, 60, 60, 32)   2400        ['sequential[6][0]']             \n",
            "                                                                                                  \n",
            " batch_normalization_43 (BatchN  (None, 60, 60, 32)  128         ['conv2d_9[0][0]']               \n",
            " ormalization)                                                                                    \n",
            "                                                                                                  \n",
            " activation_10 (Activation)     (None, 60, 60, 32)   0           ['batch_normalization_43[0][0]'] \n",
            "                                                                                                  \n",
            " separable_conv2d_41 (Separable  (None, 60, 60, 32)  1312        ['activation_10[0][0]']          \n",
            " Conv2D)                                                                                          \n",
            "                                                                                                  \n",
            " batch_normalization_44 (BatchN  (None, 60, 60, 32)  128         ['separable_conv2d_41[0][0]']    \n",
            " ormalization)                                                                                    \n",
            "                                                                                                  \n",
            " activation_11 (Activation)     (None, 60, 60, 32)   0           ['batch_normalization_44[0][0]'] \n",
            "                                                                                                  \n",
            " separable_conv2d_42 (Separable  (None, 60, 60, 32)  1312        ['activation_11[0][0]']          \n",
            " Conv2D)                                                                                          \n",
            "                                                                                                  \n",
            " max_pooling2d_5 (MaxPooling2D)  (None, 30, 30, 32)  0           ['separable_conv2d_42[0][0]']    \n",
            "                                                                                                  \n",
            " conv2d_10 (Conv2D)             (None, 30, 30, 32)   1024        ['conv2d_9[0][0]']               \n",
            "                                                                                                  \n",
            " add_5 (Add)                    (None, 30, 30, 32)   0           ['max_pooling2d_5[0][0]',        \n",
            "                                                                  'conv2d_10[0][0]']              \n",
            "                                                                                                  \n",
            " batch_normalization_45 (BatchN  (None, 30, 30, 32)  128         ['add_5[0][0]']                  \n",
            " ormalization)                                                                                    \n",
            "                                                                                                  \n",
            " activation_12 (Activation)     (None, 30, 30, 32)   0           ['batch_normalization_45[0][0]'] \n",
            "                                                                                                  \n",
            " separable_conv2d_43 (Separable  (None, 30, 30, 64)  2336        ['activation_12[0][0]']          \n",
            " Conv2D)                                                                                          \n",
            "                                                                                                  \n",
            " batch_normalization_46 (BatchN  (None, 30, 30, 64)  256         ['separable_conv2d_43[0][0]']    \n",
            " ormalization)                                                                                    \n",
            "                                                                                                  \n",
            " activation_13 (Activation)     (None, 30, 30, 64)   0           ['batch_normalization_46[0][0]'] \n",
            "                                                                                                  \n",
            " separable_conv2d_44 (Separable  (None, 30, 30, 64)  4672        ['activation_13[0][0]']          \n",
            " Conv2D)                                                                                          \n",
            "                                                                                                  \n",
            " max_pooling2d_6 (MaxPooling2D)  (None, 15, 15, 64)  0           ['separable_conv2d_44[0][0]']    \n",
            "                                                                                                  \n",
            " conv2d_11 (Conv2D)             (None, 15, 15, 64)   2048        ['add_5[0][0]']                  \n",
            "                                                                                                  \n",
            " add_6 (Add)                    (None, 15, 15, 64)   0           ['max_pooling2d_6[0][0]',        \n",
            "                                                                  'conv2d_11[0][0]']              \n",
            "                                                                                                  \n",
            " batch_normalization_47 (BatchN  (None, 15, 15, 64)  256         ['add_6[0][0]']                  \n",
            " ormalization)                                                                                    \n",
            "                                                                                                  \n",
            " activation_14 (Activation)     (None, 15, 15, 64)   0           ['batch_normalization_47[0][0]'] \n",
            "                                                                                                  \n",
            " separable_conv2d_45 (Separable  (None, 15, 15, 128)  8768       ['activation_14[0][0]']          \n",
            " Conv2D)                                                                                          \n",
            "                                                                                                  \n",
            " batch_normalization_48 (BatchN  (None, 15, 15, 128)  512        ['separable_conv2d_45[0][0]']    \n",
            " ormalization)                                                                                    \n",
            "                                                                                                  \n",
            " activation_15 (Activation)     (None, 15, 15, 128)  0           ['batch_normalization_48[0][0]'] \n",
            "                                                                                                  \n",
            " separable_conv2d_46 (Separable  (None, 15, 15, 128)  17536      ['activation_15[0][0]']          \n",
            " Conv2D)                                                                                          \n",
            "                                                                                                  \n",
            " max_pooling2d_7 (MaxPooling2D)  (None, 8, 8, 128)   0           ['separable_conv2d_46[0][0]']    \n",
            "                                                                                                  \n",
            " conv2d_12 (Conv2D)             (None, 8, 8, 128)    8192        ['add_6[0][0]']                  \n",
            "                                                                                                  \n",
            " add_7 (Add)                    (None, 8, 8, 128)    0           ['max_pooling2d_7[0][0]',        \n",
            "                                                                  'conv2d_12[0][0]']              \n",
            "                                                                                                  \n",
            " batch_normalization_49 (BatchN  (None, 8, 8, 128)   512         ['add_7[0][0]']                  \n",
            " ormalization)                                                                                    \n",
            "                                                                                                  \n",
            " activation_16 (Activation)     (None, 8, 8, 128)    0           ['batch_normalization_49[0][0]'] \n",
            "                                                                                                  \n",
            " separable_conv2d_47 (Separable  (None, 8, 8, 256)   33920       ['activation_16[0][0]']          \n",
            " Conv2D)                                                                                          \n",
            "                                                                                                  \n",
            " batch_normalization_50 (BatchN  (None, 8, 8, 256)   1024        ['separable_conv2d_47[0][0]']    \n",
            " ormalization)                                                                                    \n",
            "                                                                                                  \n",
            " activation_17 (Activation)     (None, 8, 8, 256)    0           ['batch_normalization_50[0][0]'] \n",
            "                                                                                                  \n",
            " separable_conv2d_48 (Separable  (None, 8, 8, 256)   67840       ['activation_17[0][0]']          \n",
            " Conv2D)                                                                                          \n",
            "                                                                                                  \n",
            " max_pooling2d_8 (MaxPooling2D)  (None, 4, 4, 256)   0           ['separable_conv2d_48[0][0]']    \n",
            "                                                                                                  \n",
            " conv2d_13 (Conv2D)             (None, 4, 4, 256)    32768       ['add_7[0][0]']                  \n",
            "                                                                                                  \n",
            " add_8 (Add)                    (None, 4, 4, 256)    0           ['max_pooling2d_8[0][0]',        \n",
            "                                                                  'conv2d_13[0][0]']              \n",
            "                                                                                                  \n",
            " batch_normalization_51 (BatchN  (None, 4, 4, 256)   1024        ['add_8[0][0]']                  \n",
            " ormalization)                                                                                    \n",
            "                                                                                                  \n",
            " activation_18 (Activation)     (None, 4, 4, 256)    0           ['batch_normalization_51[0][0]'] \n",
            "                                                                                                  \n",
            " separable_conv2d_49 (Separable  (None, 4, 4, 512)   133376      ['activation_18[0][0]']          \n",
            " Conv2D)                                                                                          \n",
            "                                                                                                  \n",
            " batch_normalization_52 (BatchN  (None, 4, 4, 512)   2048        ['separable_conv2d_49[0][0]']    \n",
            " ormalization)                                                                                    \n",
            "                                                                                                  \n",
            " activation_19 (Activation)     (None, 4, 4, 512)    0           ['batch_normalization_52[0][0]'] \n",
            "                                                                                                  \n",
            " separable_conv2d_50 (Separable  (None, 4, 4, 512)   266752      ['activation_19[0][0]']          \n",
            " Conv2D)                                                                                          \n",
            "                                                                                                  \n",
            " max_pooling2d_9 (MaxPooling2D)  (None, 2, 2, 512)   0           ['separable_conv2d_50[0][0]']    \n",
            "                                                                                                  \n",
            " conv2d_14 (Conv2D)             (None, 2, 2, 512)    131072      ['add_8[0][0]']                  \n",
            "                                                                                                  \n",
            " add_9 (Add)                    (None, 2, 2, 512)    0           ['max_pooling2d_9[0][0]',        \n",
            "                                                                  'conv2d_14[0][0]']              \n",
            "                                                                                                  \n",
            " global_average_pooling2d_1 (Gl  (None, 512)         0           ['add_9[0][0]']                  \n",
            " obalAveragePooling2D)                                                                            \n",
            "                                                                                                  \n",
            " dropout_14 (Dropout)           (None, 512)          0           ['global_average_pooling2d_1[0][0\n",
            "                                                                 ]']                              \n",
            "                                                                                                  \n",
            " dense_5 (Dense)                (None, 1)            513         ['dropout_14[0][0]']             \n",
            "                                                                                                  \n",
            "==================================================================================================\n",
            "Total params: 721,857\n",
            "Trainable params: 718,849\n",
            "Non-trainable params: 3,008\n",
            "__________________________________________________________________________________________________\n"
          ]
        }
      ]
    },
    {
      "cell_type": "code",
      "source": [
        "def create_dataset(X, y, test_size=0.1, val_size=0.2, random_state=123):\n",
        "\n",
        "    X_train, X_test, y_train, y_test = train_test_split(X, y, test_size=test_size, random_state=random_state)\n",
        "\n",
        "    X_train, X_val, y_train, y_val = train_test_split(X_train, y_train, test_size=round(val_size/(1-test_size), 2), random_state=random_state)\n",
        "\n",
        "    return X_train.astype(np.float32) / 255.0, X_test.astype(np.float32) / 255.0, X_val.astype(np.float32) / 255.0, \\\n",
        "            y_train.astype(np.float32), y_test.astype(np.float32), y_val.astype(np.float32)"
      ],
      "metadata": {
        "id": "i4CVaWki_Cd6"
      },
      "execution_count": 24,
      "outputs": []
    },
    {
      "cell_type": "code",
      "execution_count": 34,
      "metadata": {
        "id": "xaDRZJeb7Zfi",
        "colab": {
          "base_uri": "https://localhost:8080/"
        },
        "outputId": "bf3ae36d-be6e-4c36-9e75-7494fea22819"
      },
      "outputs": [
        {
          "output_type": "stream",
          "name": "stdout",
          "text": [
            "Epoch 1/150\n",
            "224/224 [==============================] - 16s 56ms/step - loss: 0.6917 - accuracy: 0.5816 - val_loss: 0.7018 - val_accuracy: 0.4383\n",
            "Epoch 2/150\n",
            "224/224 [==============================] - 12s 53ms/step - loss: 0.6324 - accuracy: 0.6447 - val_loss: 0.6574 - val_accuracy: 0.5651\n",
            "Epoch 3/150\n",
            "224/224 [==============================] - 12s 53ms/step - loss: 0.6012 - accuracy: 0.6757 - val_loss: 0.9331 - val_accuracy: 0.5750\n",
            "Epoch 4/150\n",
            "224/224 [==============================] - 12s 52ms/step - loss: 0.5845 - accuracy: 0.6923 - val_loss: 1.1723 - val_accuracy: 0.5830\n",
            "Epoch 5/150\n",
            "224/224 [==============================] - 12s 53ms/step - loss: 0.5672 - accuracy: 0.7074 - val_loss: 0.6060 - val_accuracy: 0.6701\n",
            "Epoch 6/150\n",
            "224/224 [==============================] - 12s 53ms/step - loss: 0.5485 - accuracy: 0.7218 - val_loss: 0.5635 - val_accuracy: 0.7103\n",
            "Epoch 7/150\n",
            "224/224 [==============================] - 12s 53ms/step - loss: 0.5328 - accuracy: 0.7351 - val_loss: 0.6210 - val_accuracy: 0.6543\n",
            "Epoch 8/150\n",
            "224/224 [==============================] - 12s 52ms/step - loss: 0.5207 - accuracy: 0.7369 - val_loss: 0.5622 - val_accuracy: 0.7167\n",
            "Epoch 9/150\n",
            "224/224 [==============================] - 12s 53ms/step - loss: 0.5123 - accuracy: 0.7481 - val_loss: 0.6111 - val_accuracy: 0.6736\n",
            "Epoch 10/150\n",
            "224/224 [==============================] - 12s 52ms/step - loss: 0.4990 - accuracy: 0.7559 - val_loss: 0.6468 - val_accuracy: 0.6642\n",
            "Epoch 11/150\n",
            "224/224 [==============================] - 12s 52ms/step - loss: 0.4980 - accuracy: 0.7600 - val_loss: 0.6228 - val_accuracy: 0.6682\n",
            "Epoch 12/150\n",
            "224/224 [==============================] - 12s 53ms/step - loss: 0.4898 - accuracy: 0.7596 - val_loss: 0.5732 - val_accuracy: 0.7008\n",
            "Epoch 13/150\n",
            "224/224 [==============================] - 12s 53ms/step - loss: 0.4795 - accuracy: 0.7702 - val_loss: 0.9863 - val_accuracy: 0.5483\n",
            "Epoch 14/150\n",
            "224/224 [==============================] - 12s 52ms/step - loss: 0.4699 - accuracy: 0.7761 - val_loss: 0.6104 - val_accuracy: 0.6949\n",
            "Epoch 15/150\n",
            "224/224 [==============================] - 12s 54ms/step - loss: 0.4552 - accuracy: 0.7845 - val_loss: 0.5735 - val_accuracy: 0.7221\n",
            "Epoch 16/150\n",
            "224/224 [==============================] - 12s 53ms/step - loss: 0.4567 - accuracy: 0.7861 - val_loss: 0.6342 - val_accuracy: 0.7365\n",
            "Epoch 17/150\n",
            "224/224 [==============================] - 12s 54ms/step - loss: 0.4493 - accuracy: 0.7898 - val_loss: 0.7549 - val_accuracy: 0.6379\n",
            "Epoch 18/150\n",
            "224/224 [==============================] - 12s 55ms/step - loss: 0.4433 - accuracy: 0.7921 - val_loss: 0.5190 - val_accuracy: 0.7697\n",
            "Epoch 19/150\n",
            "224/224 [==============================] - 12s 52ms/step - loss: 0.4405 - accuracy: 0.7931 - val_loss: 0.5429 - val_accuracy: 0.7325\n",
            "Epoch 20/150\n",
            "224/224 [==============================] - 12s 52ms/step - loss: 0.4359 - accuracy: 0.7935 - val_loss: 0.6607 - val_accuracy: 0.7355\n",
            "Epoch 21/150\n",
            "224/224 [==============================] - 12s 54ms/step - loss: 0.4263 - accuracy: 0.7997 - val_loss: 0.9028 - val_accuracy: 0.6350\n",
            "Epoch 22/150\n",
            "224/224 [==============================] - 12s 53ms/step - loss: 0.4264 - accuracy: 0.8029 - val_loss: 0.4894 - val_accuracy: 0.7642\n",
            "Epoch 23/150\n",
            "224/224 [==============================] - 12s 54ms/step - loss: 0.4145 - accuracy: 0.8141 - val_loss: 0.5445 - val_accuracy: 0.7697\n",
            "Epoch 24/150\n",
            "224/224 [==============================] - 12s 53ms/step - loss: 0.4144 - accuracy: 0.8114 - val_loss: 0.5412 - val_accuracy: 0.7325\n",
            "Epoch 25/150\n",
            "224/224 [==============================] - 12s 54ms/step - loss: 0.4085 - accuracy: 0.8099 - val_loss: 0.7500 - val_accuracy: 0.6835\n",
            "Epoch 26/150\n",
            "224/224 [==============================] - 12s 53ms/step - loss: 0.4064 - accuracy: 0.8128 - val_loss: 0.5068 - val_accuracy: 0.7850\n",
            "Epoch 27/150\n",
            "224/224 [==============================] - 12s 53ms/step - loss: 0.3963 - accuracy: 0.8197 - val_loss: 0.5849 - val_accuracy: 0.7350\n",
            "Epoch 28/150\n",
            "224/224 [==============================] - 12s 54ms/step - loss: 0.3959 - accuracy: 0.8187 - val_loss: 0.8124 - val_accuracy: 0.6939\n",
            "Epoch 29/150\n",
            "224/224 [==============================] - 12s 52ms/step - loss: 0.3860 - accuracy: 0.8254 - val_loss: 0.6631 - val_accuracy: 0.7033\n",
            "Epoch 30/150\n",
            "224/224 [==============================] - 12s 53ms/step - loss: 0.3864 - accuracy: 0.8243 - val_loss: 0.4730 - val_accuracy: 0.7821\n",
            "Epoch 31/150\n",
            "224/224 [==============================] - 12s 52ms/step - loss: 0.3778 - accuracy: 0.8254 - val_loss: 0.6296 - val_accuracy: 0.7256\n",
            "Epoch 32/150\n",
            "224/224 [==============================] - 12s 53ms/step - loss: 0.3825 - accuracy: 0.8275 - val_loss: 0.6916 - val_accuracy: 0.6895\n",
            "Epoch 33/150\n",
            "224/224 [==============================] - 12s 54ms/step - loss: 0.3698 - accuracy: 0.8295 - val_loss: 0.5251 - val_accuracy: 0.7756\n",
            "Epoch 34/150\n",
            "224/224 [==============================] - 12s 52ms/step - loss: 0.3715 - accuracy: 0.8311 - val_loss: 0.5581 - val_accuracy: 0.7811\n",
            "Epoch 35/150\n",
            "224/224 [==============================] - 12s 53ms/step - loss: 0.3704 - accuracy: 0.8351 - val_loss: 0.5396 - val_accuracy: 0.7370\n",
            "Epoch 36/150\n",
            "224/224 [==============================] - 12s 52ms/step - loss: 0.3596 - accuracy: 0.8426 - val_loss: 0.4869 - val_accuracy: 0.7865\n",
            "Epoch 37/150\n",
            "224/224 [==============================] - 12s 52ms/step - loss: 0.3576 - accuracy: 0.8413 - val_loss: 1.1234 - val_accuracy: 0.6523\n",
            "Epoch 38/150\n",
            "224/224 [==============================] - 12s 55ms/step - loss: 0.3473 - accuracy: 0.8460 - val_loss: 0.4654 - val_accuracy: 0.8078\n",
            "Epoch 39/150\n",
            "224/224 [==============================] - 12s 53ms/step - loss: 0.3464 - accuracy: 0.8426 - val_loss: 0.7391 - val_accuracy: 0.7271\n",
            "Epoch 40/150\n",
            "224/224 [==============================] - 12s 52ms/step - loss: 0.3580 - accuracy: 0.8359 - val_loss: 0.5708 - val_accuracy: 0.7647\n",
            "Epoch 41/150\n",
            "224/224 [==============================] - 12s 53ms/step - loss: 0.3445 - accuracy: 0.8476 - val_loss: 1.8991 - val_accuracy: 0.6399\n",
            "Epoch 42/150\n",
            "224/224 [==============================] - 12s 54ms/step - loss: 0.3436 - accuracy: 0.8476 - val_loss: 0.5218 - val_accuracy: 0.7841\n",
            "Epoch 43/150\n",
            "224/224 [==============================] - 12s 53ms/step - loss: 0.3364 - accuracy: 0.8531 - val_loss: 0.5354 - val_accuracy: 0.7672\n",
            "Epoch 44/150\n",
            "224/224 [==============================] - 12s 52ms/step - loss: 0.3349 - accuracy: 0.8509 - val_loss: 0.5090 - val_accuracy: 0.7761\n",
            "Epoch 45/150\n",
            "224/224 [==============================] - 12s 52ms/step - loss: 0.3342 - accuracy: 0.8509 - val_loss: 0.6709 - val_accuracy: 0.7093\n",
            "Epoch 46/150\n",
            "224/224 [==============================] - 13s 56ms/step - loss: 0.3279 - accuracy: 0.8539 - val_loss: 0.4348 - val_accuracy: 0.8044\n",
            "Epoch 47/150\n",
            "224/224 [==============================] - 12s 54ms/step - loss: 0.3229 - accuracy: 0.8567 - val_loss: 0.9547 - val_accuracy: 0.6652\n",
            "Epoch 48/150\n",
            "224/224 [==============================] - 12s 52ms/step - loss: 0.3149 - accuracy: 0.8644 - val_loss: 0.5796 - val_accuracy: 0.7672\n",
            "Epoch 49/150\n",
            "224/224 [==============================] - 12s 53ms/step - loss: 0.3204 - accuracy: 0.8584 - val_loss: 0.4908 - val_accuracy: 0.7969\n",
            "Epoch 50/150\n",
            "224/224 [==============================] - 12s 52ms/step - loss: 0.3092 - accuracy: 0.8662 - val_loss: 0.5588 - val_accuracy: 0.7647\n",
            "Epoch 51/150\n",
            "224/224 [==============================] - 12s 52ms/step - loss: 0.3128 - accuracy: 0.8646 - val_loss: 0.5057 - val_accuracy: 0.7727\n",
            "Epoch 52/150\n",
            "224/224 [==============================] - 12s 52ms/step - loss: 0.3064 - accuracy: 0.8625 - val_loss: 0.5575 - val_accuracy: 0.7845\n",
            "Epoch 53/150\n",
            "224/224 [==============================] - 12s 53ms/step - loss: 0.3057 - accuracy: 0.8634 - val_loss: 0.5768 - val_accuracy: 0.7875\n",
            "Epoch 54/150\n",
            "224/224 [==============================] - 12s 53ms/step - loss: 0.2984 - accuracy: 0.8672 - val_loss: 0.8256 - val_accuracy: 0.6924\n",
            "Epoch 55/150\n",
            "224/224 [==============================] - 12s 53ms/step - loss: 0.2970 - accuracy: 0.8742 - val_loss: 0.8830 - val_accuracy: 0.7340\n",
            "Epoch 56/150\n",
            "224/224 [==============================] - 12s 52ms/step - loss: 0.2973 - accuracy: 0.8673 - val_loss: 0.6228 - val_accuracy: 0.7945\n",
            "Epoch 57/150\n",
            "224/224 [==============================] - 12s 53ms/step - loss: 0.2927 - accuracy: 0.8718 - val_loss: 0.8742 - val_accuracy: 0.7687\n",
            "Epoch 58/150\n",
            "224/224 [==============================] - 12s 54ms/step - loss: 0.2947 - accuracy: 0.8687 - val_loss: 0.5731 - val_accuracy: 0.7469\n",
            "Epoch 59/150\n",
            "224/224 [==============================] - 12s 53ms/step - loss: 0.2942 - accuracy: 0.8708 - val_loss: 0.5393 - val_accuracy: 0.7915\n",
            "Epoch 60/150\n",
            "224/224 [==============================] - 12s 54ms/step - loss: 0.2778 - accuracy: 0.8787 - val_loss: 1.1132 - val_accuracy: 0.6622\n",
            "Epoch 61/150\n",
            "224/224 [==============================] - 12s 52ms/step - loss: 0.2854 - accuracy: 0.8777 - val_loss: 0.4671 - val_accuracy: 0.8093\n",
            "Epoch 62/150\n",
            "224/224 [==============================] - 12s 54ms/step - loss: 0.2791 - accuracy: 0.8753 - val_loss: 0.8892 - val_accuracy: 0.7420\n",
            "Epoch 63/150\n",
            "224/224 [==============================] - 12s 52ms/step - loss: 0.2850 - accuracy: 0.8776 - val_loss: 0.7103 - val_accuracy: 0.7682\n",
            "Epoch 64/150\n",
            "224/224 [==============================] - 12s 53ms/step - loss: 0.2756 - accuracy: 0.8796 - val_loss: 0.7781 - val_accuracy: 0.7434\n",
            "Epoch 65/150\n",
            "224/224 [==============================] - 11s 51ms/step - loss: 0.2699 - accuracy: 0.8873 - val_loss: 0.6615 - val_accuracy: 0.7727\n",
            "Epoch 66/150\n",
            "224/224 [==============================] - 12s 52ms/step - loss: 0.2739 - accuracy: 0.8809 - val_loss: 0.5847 - val_accuracy: 0.7841\n",
            "Epoch 67/150\n",
            "224/224 [==============================] - 12s 53ms/step - loss: 0.2623 - accuracy: 0.8875 - val_loss: 0.5935 - val_accuracy: 0.7959\n",
            "Epoch 68/150\n",
            "224/224 [==============================] - 12s 52ms/step - loss: 0.2647 - accuracy: 0.8868 - val_loss: 0.5448 - val_accuracy: 0.8088\n",
            "Epoch 69/150\n",
            "224/224 [==============================] - 12s 53ms/step - loss: 0.2580 - accuracy: 0.8928 - val_loss: 0.5359 - val_accuracy: 0.7836\n",
            "Epoch 70/150\n",
            "224/224 [==============================] - 12s 54ms/step - loss: 0.2605 - accuracy: 0.8931 - val_loss: 0.6063 - val_accuracy: 0.8118\n",
            "Epoch 71/150\n",
            "224/224 [==============================] - 12s 52ms/step - loss: 0.2609 - accuracy: 0.8873 - val_loss: 0.9370 - val_accuracy: 0.7400\n",
            "Epoch 72/150\n",
            "224/224 [==============================] - 12s 54ms/step - loss: 0.2464 - accuracy: 0.8945 - val_loss: 0.7451 - val_accuracy: 0.7628\n",
            "Epoch 73/150\n",
            "224/224 [==============================] - 12s 55ms/step - loss: 0.2499 - accuracy: 0.8956 - val_loss: 0.7841 - val_accuracy: 0.7702\n",
            "Epoch 74/150\n",
            "224/224 [==============================] - 12s 54ms/step - loss: 0.2468 - accuracy: 0.8977 - val_loss: 0.6624 - val_accuracy: 0.8058\n",
            "Epoch 75/150\n",
            "224/224 [==============================] - 12s 52ms/step - loss: 0.2530 - accuracy: 0.8936 - val_loss: 0.4662 - val_accuracy: 0.7964\n",
            "Epoch 76/150\n",
            "224/224 [==============================] - 12s 52ms/step - loss: 0.2522 - accuracy: 0.8940 - val_loss: 0.7547 - val_accuracy: 0.7395\n",
            "Epoch 77/150\n",
            "224/224 [==============================] - 11s 50ms/step - loss: 0.2424 - accuracy: 0.8985 - val_loss: 0.5252 - val_accuracy: 0.7875\n",
            "Epoch 78/150\n",
            "224/224 [==============================] - 12s 51ms/step - loss: 0.2429 - accuracy: 0.8982 - val_loss: 0.5723 - val_accuracy: 0.8063\n",
            "Epoch 79/150\n",
            "224/224 [==============================] - 12s 54ms/step - loss: 0.2254 - accuracy: 0.9042 - val_loss: 0.7394 - val_accuracy: 0.7974\n",
            "Epoch 80/150\n",
            "224/224 [==============================] - 12s 52ms/step - loss: 0.2346 - accuracy: 0.9027 - val_loss: 0.5953 - val_accuracy: 0.7598\n",
            "Epoch 81/150\n",
            "224/224 [==============================] - 12s 53ms/step - loss: 0.2296 - accuracy: 0.9056 - val_loss: 0.4762 - val_accuracy: 0.8009\n",
            "Epoch 82/150\n",
            "224/224 [==============================] - 12s 54ms/step - loss: 0.2249 - accuracy: 0.9045 - val_loss: 0.5397 - val_accuracy: 0.7989\n",
            "Epoch 83/150\n",
            "224/224 [==============================] - 12s 54ms/step - loss: 0.2290 - accuracy: 0.9069 - val_loss: 0.6886 - val_accuracy: 0.8177\n",
            "Epoch 84/150\n",
            "224/224 [==============================] - 12s 54ms/step - loss: 0.2281 - accuracy: 0.9077 - val_loss: 0.7116 - val_accuracy: 0.7860\n",
            "Epoch 85/150\n",
            "224/224 [==============================] - 12s 54ms/step - loss: 0.2277 - accuracy: 0.9069 - val_loss: 0.6010 - val_accuracy: 0.8019\n",
            "Epoch 86/150\n",
            "224/224 [==============================] - 12s 52ms/step - loss: 0.2263 - accuracy: 0.9077 - val_loss: 0.6855 - val_accuracy: 0.7642\n",
            "Epoch 87/150\n",
            "224/224 [==============================] - 12s 54ms/step - loss: 0.2272 - accuracy: 0.9080 - val_loss: 0.8501 - val_accuracy: 0.7905\n",
            "Epoch 88/150\n",
            "224/224 [==============================] - 12s 54ms/step - loss: 0.2183 - accuracy: 0.9131 - val_loss: 0.6307 - val_accuracy: 0.8078\n",
            "Epoch 89/150\n",
            "224/224 [==============================] - 12s 53ms/step - loss: 0.2259 - accuracy: 0.9086 - val_loss: 0.6006 - val_accuracy: 0.7994\n",
            "Epoch 90/150\n",
            "224/224 [==============================] - 12s 53ms/step - loss: 0.2155 - accuracy: 0.9125 - val_loss: 0.7187 - val_accuracy: 0.7910\n",
            "Epoch 91/150\n",
            "224/224 [==============================] - 12s 54ms/step - loss: 0.2140 - accuracy: 0.9103 - val_loss: 0.5984 - val_accuracy: 0.8053\n",
            "Epoch 92/150\n",
            "224/224 [==============================] - 12s 53ms/step - loss: 0.2108 - accuracy: 0.9131 - val_loss: 0.5824 - val_accuracy: 0.8262\n",
            "Epoch 93/150\n",
            "224/224 [==============================] - 12s 53ms/step - loss: 0.1978 - accuracy: 0.9202 - val_loss: 0.9726 - val_accuracy: 0.7395\n",
            "Epoch 94/150\n",
            "224/224 [==============================] - 11s 51ms/step - loss: 0.2163 - accuracy: 0.9094 - val_loss: 0.5779 - val_accuracy: 0.8187\n",
            "Epoch 95/150\n",
            "224/224 [==============================] - 12s 53ms/step - loss: 0.2104 - accuracy: 0.9150 - val_loss: 0.6580 - val_accuracy: 0.7831\n",
            "Epoch 96/150\n",
            "224/224 [==============================] - 12s 53ms/step - loss: 0.2067 - accuracy: 0.9170 - val_loss: 0.6038 - val_accuracy: 0.8049\n",
            "Epoch 97/150\n",
            "224/224 [==============================] - 12s 54ms/step - loss: 0.2090 - accuracy: 0.9135 - val_loss: 0.6184 - val_accuracy: 0.7984\n",
            "Epoch 98/150\n",
            "224/224 [==============================] - 12s 53ms/step - loss: 0.2124 - accuracy: 0.9108 - val_loss: 0.6514 - val_accuracy: 0.8162\n",
            "Epoch 99/150\n",
            "224/224 [==============================] - 12s 53ms/step - loss: 0.2027 - accuracy: 0.9186 - val_loss: 1.2890 - val_accuracy: 0.7504\n",
            "Epoch 100/150\n",
            "224/224 [==============================] - 12s 54ms/step - loss: 0.2041 - accuracy: 0.9167 - val_loss: 0.8970 - val_accuracy: 0.7850\n",
            "Epoch 101/150\n",
            "224/224 [==============================] - 12s 53ms/step - loss: 0.1931 - accuracy: 0.9207 - val_loss: 0.9380 - val_accuracy: 0.7692\n",
            "Epoch 102/150\n",
            "224/224 [==============================] - 12s 53ms/step - loss: 0.1999 - accuracy: 0.9182 - val_loss: 0.5345 - val_accuracy: 0.8143\n",
            "Epoch 103/150\n",
            "224/224 [==============================] - 12s 53ms/step - loss: 0.2038 - accuracy: 0.9171 - val_loss: 0.5692 - val_accuracy: 0.8063\n",
            "Epoch 104/150\n",
            "224/224 [==============================] - 12s 54ms/step - loss: 0.1960 - accuracy: 0.9242 - val_loss: 1.1948 - val_accuracy: 0.7365\n",
            "Epoch 105/150\n",
            "224/224 [==============================] - 12s 53ms/step - loss: 0.1963 - accuracy: 0.9241 - val_loss: 0.5449 - val_accuracy: 0.8039\n",
            "Epoch 106/150\n",
            "224/224 [==============================] - 12s 54ms/step - loss: 0.1884 - accuracy: 0.9241 - val_loss: 1.3285 - val_accuracy: 0.7469\n",
            "Epoch 107/150\n",
            "224/224 [==============================] - 12s 54ms/step - loss: 0.1958 - accuracy: 0.9175 - val_loss: 0.6701 - val_accuracy: 0.8197\n",
            "Epoch 108/150\n",
            "224/224 [==============================] - 12s 53ms/step - loss: 0.1896 - accuracy: 0.9192 - val_loss: 1.1292 - val_accuracy: 0.8029\n",
            "Epoch 109/150\n",
            "224/224 [==============================] - 12s 54ms/step - loss: 0.1837 - accuracy: 0.9269 - val_loss: 0.7534 - val_accuracy: 0.7836\n",
            "Epoch 110/150\n",
            "224/224 [==============================] - 12s 53ms/step - loss: 0.1900 - accuracy: 0.9240 - val_loss: 0.7099 - val_accuracy: 0.7984\n",
            "Epoch 111/150\n",
            "224/224 [==============================] - 12s 55ms/step - loss: 0.1845 - accuracy: 0.9247 - val_loss: 0.6096 - val_accuracy: 0.8143\n",
            "Epoch 112/150\n",
            "224/224 [==============================] - 12s 53ms/step - loss: 0.1695 - accuracy: 0.9318 - val_loss: 0.7243 - val_accuracy: 0.7885\n",
            "Epoch 113/150\n",
            "224/224 [==============================] - 12s 54ms/step - loss: 0.1846 - accuracy: 0.9279 - val_loss: 0.8441 - val_accuracy: 0.8148\n",
            "Epoch 114/150\n",
            "224/224 [==============================] - 12s 54ms/step - loss: 0.1848 - accuracy: 0.9266 - val_loss: 1.3948 - val_accuracy: 0.7167\n",
            "Epoch 115/150\n",
            "224/224 [==============================] - 12s 54ms/step - loss: 0.1744 - accuracy: 0.9280 - val_loss: 0.7543 - val_accuracy: 0.7989\n",
            "Epoch 116/150\n",
            "224/224 [==============================] - 12s 54ms/step - loss: 0.1802 - accuracy: 0.9252 - val_loss: 0.7802 - val_accuracy: 0.7984\n",
            "Epoch 117/150\n",
            "224/224 [==============================] - 12s 53ms/step - loss: 0.1804 - accuracy: 0.9263 - val_loss: 0.7300 - val_accuracy: 0.8138\n",
            "Epoch 118/150\n",
            "224/224 [==============================] - 12s 54ms/step - loss: 0.1769 - accuracy: 0.9279 - val_loss: 0.6264 - val_accuracy: 0.8083\n",
            "Epoch 119/150\n",
            "224/224 [==============================] - 12s 52ms/step - loss: 0.1778 - accuracy: 0.9255 - val_loss: 0.9729 - val_accuracy: 0.7915\n",
            "Epoch 120/150\n",
            "224/224 [==============================] - 12s 53ms/step - loss: 0.1826 - accuracy: 0.9291 - val_loss: 0.8605 - val_accuracy: 0.7806\n",
            "Epoch 121/150\n",
            "224/224 [==============================] - 12s 54ms/step - loss: 0.1784 - accuracy: 0.9300 - val_loss: 0.8853 - val_accuracy: 0.7786\n",
            "Epoch 122/150\n",
            "224/224 [==============================] - 12s 54ms/step - loss: 0.1787 - accuracy: 0.9265 - val_loss: 0.7516 - val_accuracy: 0.7697\n",
            "Epoch 123/150\n",
            "224/224 [==============================] - 12s 54ms/step - loss: 0.1563 - accuracy: 0.9395 - val_loss: 0.8872 - val_accuracy: 0.8019\n",
            "Epoch 124/150\n",
            "224/224 [==============================] - 12s 53ms/step - loss: 0.1644 - accuracy: 0.9363 - val_loss: 0.6905 - val_accuracy: 0.7994\n",
            "Epoch 125/150\n",
            "224/224 [==============================] - 12s 55ms/step - loss: 0.1690 - accuracy: 0.9339 - val_loss: 0.6996 - val_accuracy: 0.8024\n",
            "Epoch 126/150\n",
            "224/224 [==============================] - 12s 54ms/step - loss: 0.1618 - accuracy: 0.9351 - val_loss: 0.8317 - val_accuracy: 0.7984\n",
            "Epoch 127/150\n",
            "224/224 [==============================] - 12s 54ms/step - loss: 0.1686 - accuracy: 0.9315 - val_loss: 1.0045 - val_accuracy: 0.7930\n",
            "Epoch 128/150\n",
            "224/224 [==============================] - 12s 54ms/step - loss: 0.1667 - accuracy: 0.9377 - val_loss: 0.7059 - val_accuracy: 0.8143\n",
            "Epoch 129/150\n",
            "224/224 [==============================] - 12s 54ms/step - loss: 0.1600 - accuracy: 0.9381 - val_loss: 0.7277 - val_accuracy: 0.8098\n",
            "Epoch 130/150\n",
            "224/224 [==============================] - 12s 53ms/step - loss: 0.1528 - accuracy: 0.9410 - val_loss: 1.2533 - val_accuracy: 0.7662\n",
            "Epoch 131/150\n",
            "224/224 [==============================] - 12s 54ms/step - loss: 0.1646 - accuracy: 0.9358 - val_loss: 0.9065 - val_accuracy: 0.7841\n",
            "Epoch 132/150\n",
            "224/224 [==============================] - 12s 53ms/step - loss: 0.1726 - accuracy: 0.9326 - val_loss: 0.8232 - val_accuracy: 0.7959\n",
            "Epoch 133/150\n",
            "224/224 [==============================] - 12s 54ms/step - loss: 0.1617 - accuracy: 0.9374 - val_loss: 0.8899 - val_accuracy: 0.8138\n",
            "Epoch 134/150\n",
            "224/224 [==============================] - 12s 53ms/step - loss: 0.1555 - accuracy: 0.9423 - val_loss: 0.8129 - val_accuracy: 0.7890\n",
            "Epoch 135/150\n",
            "224/224 [==============================] - 12s 53ms/step - loss: 0.1583 - accuracy: 0.9388 - val_loss: 0.6893 - val_accuracy: 0.8088\n",
            "Epoch 136/150\n",
            "224/224 [==============================] - 12s 55ms/step - loss: 0.1566 - accuracy: 0.9377 - val_loss: 0.9741 - val_accuracy: 0.7945\n",
            "Epoch 137/150\n",
            "224/224 [==============================] - 12s 55ms/step - loss: 0.1690 - accuracy: 0.9321 - val_loss: 0.8904 - val_accuracy: 0.8024\n",
            "Epoch 138/150\n",
            "224/224 [==============================] - 12s 55ms/step - loss: 0.1555 - accuracy: 0.9420 - val_loss: 0.7198 - val_accuracy: 0.8172\n",
            "Epoch 139/150\n",
            "224/224 [==============================] - 12s 53ms/step - loss: 0.1587 - accuracy: 0.9378 - val_loss: 0.7062 - val_accuracy: 0.7969\n",
            "Epoch 140/150\n",
            "224/224 [==============================] - 12s 53ms/step - loss: 0.1546 - accuracy: 0.9409 - val_loss: 0.8571 - val_accuracy: 0.8143\n",
            "Epoch 141/150\n",
            "224/224 [==============================] - 12s 54ms/step - loss: 0.1500 - accuracy: 0.9431 - val_loss: 1.0696 - val_accuracy: 0.7776\n",
            "Epoch 142/150\n",
            "224/224 [==============================] - 12s 53ms/step - loss: 0.1589 - accuracy: 0.9412 - val_loss: 0.9521 - val_accuracy: 0.7841\n",
            "Epoch 143/150\n",
            "224/224 [==============================] - 12s 54ms/step - loss: 0.1460 - accuracy: 0.9431 - val_loss: 0.7730 - val_accuracy: 0.8113\n",
            "Epoch 144/150\n",
            "224/224 [==============================] - 12s 53ms/step - loss: 0.1456 - accuracy: 0.9444 - val_loss: 1.0435 - val_accuracy: 0.7994\n",
            "Epoch 145/150\n",
            "224/224 [==============================] - 12s 53ms/step - loss: 0.1462 - accuracy: 0.9432 - val_loss: 0.8689 - val_accuracy: 0.8049\n",
            "Epoch 146/150\n",
            "224/224 [==============================] - 12s 54ms/step - loss: 0.1528 - accuracy: 0.9406 - val_loss: 0.9144 - val_accuracy: 0.8014\n",
            "Epoch 147/150\n",
            "224/224 [==============================] - 12s 53ms/step - loss: 0.1444 - accuracy: 0.9460 - val_loss: 0.9758 - val_accuracy: 0.7841\n",
            "Epoch 148/150\n",
            "224/224 [==============================] - 12s 53ms/step - loss: 0.1571 - accuracy: 0.9400 - val_loss: 0.7325 - val_accuracy: 0.8098\n",
            "Epoch 149/150\n",
            "224/224 [==============================] - 12s 55ms/step - loss: 0.1458 - accuracy: 0.9439 - val_loss: 0.7794 - val_accuracy: 0.7984\n",
            "Epoch 150/150\n",
            "224/224 [==============================] - 12s 55ms/step - loss: 0.1451 - accuracy: 0.9439 - val_loss: 0.7809 - val_accuracy: 0.8133\n"
          ]
        }
      ],
      "source": [
        "import tensorflow.keras as keras\n",
        "\n",
        "model.compile(optimizer=\"rmsprop\", loss='binary_crossentropy', metrics=['accuracy'])\n",
        "\n",
        "batch_size = 32\n",
        "epochs = 150\n",
        "\n",
        "X_train, X_test, X_val, y_train, y_test, y_val = create_dataset(X, y)\n",
        "\n",
        "checkpoint_filepath = \"checkpoint_filepath.keras\"\n",
        "\n",
        "callbacks = [\n",
        "    keras.callbacks.ModelCheckpoint(filepath=checkpoint_filepath,\n",
        "                                    save_best_only=True,\n",
        "                                    monitor=\"val_loss\")\n",
        "]\n",
        "\n",
        "history = model.fit(X_train, y_train,\n",
        "                    epochs=epochs,\n",
        "                    validation_data=(X_val, y_val),\n",
        "                    batch_size=batch_size,\n",
        "                    callbacks=callbacks)\n",
        "\n"
      ]
    },
    {
      "cell_type": "code",
      "source": [
        "import matplotlib.pyplot as plt\n",
        "\n",
        "acc = history.history[\"accuracy\"]\n",
        "val_acc = history.history[\"val_accuracy\"]\n",
        "loss = history.history[\"loss\"]\n",
        "val_loss = history.history[\"val_loss\"]\n",
        "epochs = range(1, len(acc) + 1)\n",
        "\n",
        "plt.plot(epochs, acc, \"bo\", label=\"Training accuracy\")\n",
        "plt.plot(epochs, val_acc, \"b\", label=\"Validation accuracy\")\n",
        "plt.title(\"Training and validation accuracy\")\n",
        "plt.legend()\n",
        "plt.figure()\n",
        "\n",
        "plt.plot(epochs, loss, \"bo\", label=\"Training loss\")\n",
        "plt.plot(epochs, val_loss, \"b\", label=\"Validation loss\")\n",
        "plt.title(\"Training and validation loss\")\n",
        "plt.legend()\n",
        "\n",
        "plt.show()"
      ],
      "metadata": {
        "colab": {
          "base_uri": "https://localhost:8080/",
          "height": 545
        },
        "id": "rLm_UvRw6p1C",
        "outputId": "bb347e12-2402-45de-a8e8-ca8bcf99f44e"
      },
      "execution_count": 35,
      "outputs": [
        {
          "output_type": "display_data",
          "data": {
            "text/plain": [
              "<Figure size 432x288 with 1 Axes>"
            ],
            "image/png": "[encoded data removed]"
          },
          "metadata": {
            "needs_background": "light"
          }
        },
        {
          "output_type": "display_data",
          "data": {
            "text/plain": [
              "<Figure size 432x288 with 1 Axes>"
            ],
            "image/png": "[encoded data removed]"
          },
          "metadata": {
            "needs_background": "light"
          }
        }
      ]
    },
    {
      "cell_type": "code",
      "source": [
        "test_model = keras.models.load_model(checkpoint_filepath)\n",
        "test_loss, test_acc = test_model.evaluate(X_test, y_test)\n",
        "print(f\"Test accuracy: {test_acc:.3f}\")"
      ],
      "metadata": {
        "colab": {
          "base_uri": "https://localhost:8080/"
        },
        "id": "yAHEQxXZ7how",
        "outputId": "0a7fff87-c44f-4947-c821-5c57e234a305"
      },
      "execution_count": 36,
      "outputs": [
        {
          "output_type": "stream",
          "name": "stdout",
          "text": [
            "32/32 [==============================] - 1s 9ms/step - loss: 0.4415 - accuracy: 0.8059\n",
            "Test accuracy: 0.806\n"
          ]
        }
      ]
    },
    {
      "cell_type": "code",
      "source": [
        ""
      ],
      "metadata": {
        "id": "Ihyc2YEg1XHP"
      },
      "execution_count": null,
      "outputs": []
    }
  ],
  "metadata": {
    "accelerator": "GPU",
    "colab": {
      "name": "akimoto_v3.ipynb",
      "provenance": [],
      "collapsed_sections": []
    },
    "kernelspec": {
      "display_name": "Python 3",
      "name": "python3"
    },
    "language_info": {
      "name": "python"
    }
  },
  "nbformat": 4,
  "nbformat_minor": 0
}