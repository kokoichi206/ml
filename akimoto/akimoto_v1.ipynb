{
  "cells": [
    {
      "cell_type": "code",
      "execution_count": 85,
      "metadata": {
        "colab": {
          "base_uri": "https://localhost:8080/"
        },
        "id": "TmxYGrQ62N67",
        "outputId": "f9a94cc4-a229-402e-8186-3408ad984eb8"
      },
      "outputs": [
        {
          "name": "stdout",
          "output_type": "stream",
          "text": [
            "Drive already mounted at /content/drive; to attempt to forcibly remount, call drive.mount(\"/content/drive\", force_remount=True).\n"
          ]
        }
      ],
      "source": [
        "from google.colab import drive\n",
        "drive.mount('/content/drive')"
      ]
    },
    {
      "cell_type": "markdown",
      "metadata": {
        "id": "VWBMb7ghdP4R"
      },
      "source": [
        "## data set の読み込み\n",
        "- remote から取得する\n"
      ]
    },
    {
      "cell_type": "code",
      "execution_count": 86,
      "metadata": {
        "id": "IzobdXett0S0"
      },
      "outputs": [],
      "source": [
        "!if [ -n akb.zip ]; then wget https://kokoichi0206.mydns.jp/data/saka/akb.zip; fi"
      ]
    },
    {
      "cell_type": "code",
      "execution_count": 87,
      "metadata": {
        "id": "EgS_G8u4sTP9"
      },
      "outputs": [],
      "source": [
        "!if [ -n saka.zip ]; then wget https://kokoichi0206.mydns.jp/data/saka/saka.zip; fi"
      ]
    },
    {
      "cell_type": "code",
      "execution_count": 88,
      "metadata": {
        "id": "X9kHVKSGsU_n"
      },
      "outputs": [],
      "source": [
        "!if [ -n akb.zip ]; then yes | unzip akb.zip >/dev/null; fi\n",
        "!if [ -n akb.zip ]; then yes | unzip saka.zip >/dev/null; fi"
      ]
    },
    {
      "cell_type": "code",
      "execution_count": 89,
      "metadata": {
        "colab": {
          "base_uri": "https://localhost:8080/"
        },
        "id": "xihU-pG0u5Z0",
        "outputId": "3ca75b56-90dc-4a35-f774-047884a5b28f"
      },
      "outputs": [
        {
          "name": "stdout",
          "output_type": "stream",
          "text": [
            "akb  akb.zip  checkpoint_filepath.keras  drive\tml  saka  saka.zip  sample_data\n"
          ]
        }
      ],
      "source": [
        "!ls"
      ]
    },
    {
      "cell_type": "code",
      "execution_count": 90,
      "metadata": {
        "id": "ceZ0xdQSy887"
      },
      "outputs": [],
      "source": [
        "import glob\n",
        "import gc\n",
        "import numpy as np\n",
        "import os\n",
        "from PIL import Image\n",
        "from sklearn.model_selection import train_test_split\n",
        "import tensorflow as tf\n",
        "import tensorflow.keras.layers as layers\n"
      ]
    },
    {
      "cell_type": "code",
      "execution_count": 91,
      "metadata": {
        "colab": {
          "base_uri": "https://localhost:8080/"
        },
        "id": "-z_GSew-47O8",
        "outputId": "413964c3-1959-4555-f7b5-5df1e4e98e08"
      },
      "outputs": [
        {
          "name": "stdout",
          "output_type": "stream",
          "text": [
            "(512, 512, 3)\n"
          ]
        }
      ],
      "source": [
        "groups = [\"akb\", \"saka\"]\n",
        "\n",
        "akbs = glob.glob(\"akb/*/*.jpg\")\n",
        "sakas = glob.glob(\"saka/*/*.jpg\")\n",
        "faces = []\n",
        "\n",
        "print(np.asarray(Image.open(akbs[0]), np.uint8).shape)\n",
        "\n",
        "\n",
        "for path in akbs:\n",
        "    with Image.open(path) as img:\n",
        "        # colabでリサイズする場合\n",
        "        img = img.resize((64, 64), Image.LANCZOS)\n",
        "        faces.append(np.asarray(img, np.uint8))\n",
        "\n",
        "for path in sakas:\n",
        "    with Image.open(path) as img:\n",
        "        img = img.resize((64, 64), Image.LANCZOS)\n",
        "        faces.append(np.asarray(img, np.uint8))\n",
        "\n",
        "X = np.array(faces)\n",
        "# 正解ラベルを作成する\n",
        "len_akbs = len(akbs)\n",
        "len_sakas = len(sakas)\n",
        "a = np.zeros((len_akbs, 1), dtype=\"float32\")\n",
        "s = np.ones((len_sakas, 1), dtype=\"float32\")\n",
        "y = np.concatenate([a, s])"
      ]
    },
    {
      "cell_type": "code",
      "execution_count": 92,
      "metadata": {
        "colab": {
          "base_uri": "https://localhost:8080/"
        },
        "id": "7MTgZOVh421u",
        "outputId": "4c697f6b-aaf9-41f3-b2dd-43e9d8f4b37a"
      },
      "outputs": [
        {
          "name": "stdout",
          "output_type": "stream",
          "text": [
            "<class 'numpy.ndarray'>\n",
            "<class 'numpy.ndarray'>\n"
          ]
        }
      ],
      "source": [
        "print(type(X))\n",
        "print(type(y))"
      ]
    },
    {
      "cell_type": "code",
      "execution_count": 93,
      "metadata": {
        "colab": {
          "base_uri": "https://localhost:8080/"
        },
        "id": "2_WlnvT76HXC",
        "outputId": "b6d00665-96dd-4a0b-e703-f06c5e53175d"
      },
      "outputs": [
        {
          "name": "stdout",
          "output_type": "stream",
          "text": [
            "(10193, 64, 64, 3)\n",
            "(10193, 1)\n",
            "64\n"
          ]
        }
      ],
      "source": [
        "print(X.shape)\n",
        "print(y.shape)\n",
        "print(X.shape[1])"
      ]
    },
    {
      "cell_type": "markdown",
      "metadata": {
        "id": "RA2iw20Rd5zK"
      },
      "source": [
        "## model の作成・訓練"
      ]
    },
    {
      "cell_type": "code",
      "execution_count": 94,
      "metadata": {
        "id": "z3TzBFuY2OTD"
      },
      "outputs": [],
      "source": [
        "# model と weight をローカルに保存するための準備\n",
        "version = \"5th\"\n",
        "f_log = \"./log\"\n",
        "f_models = \"/content/drive/MyDrive/Colab Notebooks/akimoto/models\"\n",
        "model_filename = f\"model_{version}.json\"\n",
        "weight_filename = f\"weights_{version}.hdf5\""
      ]
    },
    {
      "cell_type": "code",
      "execution_count": 95,
      "metadata": {
        "id": "mhPc8eYu_VJ2"
      },
      "outputs": [],
      "source": [
        "data_augmentation = keras.Sequential(\n",
        "    [\n",
        "        layers.RandomFlip(\"horizontal\"),\n",
        "        layers.RandomRotation(0.1),\n",
        "        layers.RandomZoom(0.05),\n",
        "    ]\n",
        ")"
      ]
    },
    {
      "cell_type": "code",
      "execution_count": 96,
      "metadata": {
        "colab": {
          "base_uri": "https://localhost:8080/"
        },
        "id": "0K2y0Zn8s8qM",
        "outputId": "619e1b5e-e08b-4af3-b38c-75590296f509"
      },
      "outputs": [
        {
          "name": "stdout",
          "output_type": "stream",
          "text": [
            "Model: \"model_8\"\n",
            "_________________________________________________________________\n",
            " Layer (type)                Output Shape              Param #   \n",
            "=================================================================\n",
            " input_11 (InputLayer)       [(None, 64, 64, 3)]       0         \n",
            "                                                                 \n",
            " sequential_2 (Sequential)   (None, 64, 64, 3)         0         \n",
            "                                                                 \n",
            " conv2d_57 (Conv2D)          (None, 64, 64, 64)        1792      \n",
            "                                                                 \n",
            " batch_normalization_56 (Bat  (None, 64, 64, 64)       256       \n",
            " chNormalization)                                                \n",
            "                                                                 \n",
            " re_lu_56 (ReLU)             (None, 64, 64, 64)        0         \n",
            "                                                                 \n",
            " conv2d_58 (Conv2D)          (None, 64, 64, 64)        36928     \n",
            "                                                                 \n",
            " batch_normalization_57 (Bat  (None, 64, 64, 64)       256       \n",
            " chNormalization)                                                \n",
            "                                                                 \n",
            " re_lu_57 (ReLU)             (None, 64, 64, 64)        0         \n",
            "                                                                 \n",
            " average_pooling2d_28 (Avera  (None, 32, 32, 64)       0         \n",
            " gePooling2D)                                                    \n",
            "                                                                 \n",
            " conv2d_59 (Conv2D)          (None, 32, 32, 128)       73856     \n",
            "                                                                 \n",
            " batch_normalization_58 (Bat  (None, 32, 32, 128)      512       \n",
            " chNormalization)                                                \n",
            "                                                                 \n",
            " re_lu_58 (ReLU)             (None, 32, 32, 128)       0         \n",
            "                                                                 \n",
            " conv2d_60 (Conv2D)          (None, 32, 32, 128)       147584    \n",
            "                                                                 \n",
            " batch_normalization_59 (Bat  (None, 32, 32, 128)      512       \n",
            " chNormalization)                                                \n",
            "                                                                 \n",
            " re_lu_59 (ReLU)             (None, 32, 32, 128)       0         \n",
            "                                                                 \n",
            " average_pooling2d_29 (Avera  (None, 16, 16, 128)      0         \n",
            " gePooling2D)                                                    \n",
            "                                                                 \n",
            " dropout_23 (Dropout)        (None, 16, 16, 128)       0         \n",
            "                                                                 \n",
            " conv2d_61 (Conv2D)          (None, 16, 16, 256)       295168    \n",
            "                                                                 \n",
            " batch_normalization_60 (Bat  (None, 16, 16, 256)      1024      \n",
            " chNormalization)                                                \n",
            "                                                                 \n",
            " re_lu_60 (ReLU)             (None, 16, 16, 256)       0         \n",
            "                                                                 \n",
            " conv2d_62 (Conv2D)          (None, 16, 16, 256)       590080    \n",
            "                                                                 \n",
            " batch_normalization_61 (Bat  (None, 16, 16, 256)      1024      \n",
            " chNormalization)                                                \n",
            "                                                                 \n",
            " re_lu_61 (ReLU)             (None, 16, 16, 256)       0         \n",
            "                                                                 \n",
            " average_pooling2d_30 (Avera  (None, 8, 8, 256)        0         \n",
            " gePooling2D)                                                    \n",
            "                                                                 \n",
            " flatten_4 (Flatten)         (None, 16384)             0         \n",
            "                                                                 \n",
            " dropout_24 (Dropout)        (None, 16384)             0         \n",
            "                                                                 \n",
            " dense_8 (Dense)             (None, 1)                 16385     \n",
            "                                                                 \n",
            "=================================================================\n",
            "Total params: 1,165,377\n",
            "Trainable params: 1,163,585\n",
            "Non-trainable params: 1,792\n",
            "_________________________________________________________________\n"
          ]
        }
      ],
      "source": [
        "IMG_SIZE = X.shape[1]\n",
        "inputs = layers.Input((IMG_SIZE, IMG_SIZE, 3))\n",
        "x = data_augmentation(inputs)\n",
        "## １層目\n",
        "x = layers.Conv2D(64, 3, padding=\"same\")(x)\n",
        "x = layers.BatchNormalization()(x)\n",
        "x = layers.ReLU()(x)\n",
        "x = layers.Conv2D(64, 3, padding=\"same\")(x)\n",
        "x = layers.BatchNormalization()(x)\n",
        "x = layers.ReLU()(x)\n",
        "x = layers.AveragePooling2D(2)(x)\n",
        "## 2層目\n",
        "x = layers.Conv2D(128, 3, padding=\"same\")(x)\n",
        "x = layers.BatchNormalization()(x)\n",
        "x = layers.ReLU()(x)\n",
        "x = layers.Conv2D(128, 3, padding=\"same\")(x)\n",
        "x = layers.BatchNormalization()(x)\n",
        "x = layers.ReLU()(x)\n",
        "x = layers.AveragePooling2D(2)(x)\n",
        "x = layers.Dropout(0.25)(x) # 追加\n",
        "## 3層目\n",
        "x = layers.Conv2D(256, 3, padding=\"same\")(x)\n",
        "x = layers.BatchNormalization()(x)\n",
        "x = layers.ReLU()(x)\n",
        "x = layers.Conv2D(256, 3, padding=\"same\")(x)\n",
        "x = layers.BatchNormalization()(x)\n",
        "x = layers.ReLU()(x)\n",
        "x = layers.AveragePooling2D(2)(x)\n",
        "x = layers.Flatten()(x)\n",
        "x = layers.Dropout(0.5)(x) # 追加\n",
        "\n",
        "# # ## 4層目\n",
        "# x = layers.Conv2D(512, 3, padding=\"same\")(x)\n",
        "# x = layers.BatchNormalization()(x)\n",
        "# x = layers.ReLU()(x)\n",
        "\n",
        "# x = layers.GlobalAveragePooling2D()(x)\n",
        "outputs = layers.Dense(1, activation=\"sigmoid\")(x)\n",
        "\n",
        "model = keras.models.Model(inputs=inputs, outputs=outputs)\n",
        "model.summary()"
      ]
    },
    {
      "cell_type": "code",
      "execution_count": 97,
      "metadata": {
        "id": "zXfGhSHC3zaJ"
      },
      "outputs": [],
      "source": [
        "json_string = model.to_json()\n",
        "with open(os.path.join(f_models, model_filename), mode='w') as f:\n",
        "    f.write(json_string)"
      ]
    },
    {
      "cell_type": "code",
      "execution_count": 98,
      "metadata": {
        "id": "i4CVaWki_Cd6"
      },
      "outputs": [],
      "source": [
        "def create_dataset(X, y, test_size=0.1, val_size=0.2, random_state=123):\n",
        "\n",
        "    X_train, X_test, y_train, y_test = train_test_split(X, y, test_size=test_size, random_state=random_state)\n",
        "\n",
        "    X_train, X_val, y_train, y_val = train_test_split(X_train, y_train, test_size=round(val_size/(1-test_size), 2), random_state=random_state)\n",
        "\n",
        "    return X_train.astype(np.float32) / 255.0, X_test.astype(np.float32) / 255.0, X_val.astype(np.float32) / 255.0, \\\n",
        "            y_train.astype(np.float32), y_test.astype(np.float32), y_val.astype(np.float32)"
      ]
    },
    {
      "cell_type": "code",
      "execution_count": 99,
      "metadata": {
        "colab": {
          "base_uri": "https://localhost:8080/"
        },
        "id": "xaDRZJeb7Zfi",
        "outputId": "b00c7531-54e2-4ee4-b564-f217786d9028"
      },
      "outputs": [
        {
          "name": "stdout",
          "output_type": "stream",
          "text": [
            "Epoch 1/150\n",
            "224/224 [==============================] - 10s 35ms/step - loss: 1.0603 - accuracy: 0.5558 - val_loss: 0.7100 - val_accuracy: 0.5404\n",
            "Epoch 2/150\n",
            "224/224 [==============================] - 8s 35ms/step - loss: 0.7954 - accuracy: 0.5994 - val_loss: 0.6670 - val_accuracy: 0.6072\n",
            "Epoch 3/150\n",
            "224/224 [==============================] - 7s 33ms/step - loss: 0.7346 - accuracy: 0.6185 - val_loss: 0.6930 - val_accuracy: 0.6186\n",
            "Epoch 4/150\n",
            "224/224 [==============================] - 8s 34ms/step - loss: 0.6907 - accuracy: 0.6299 - val_loss: 0.8709 - val_accuracy: 0.5428\n",
            "Epoch 5/150\n",
            "224/224 [==============================] - 8s 34ms/step - loss: 0.6492 - accuracy: 0.6489 - val_loss: 1.0693 - val_accuracy: 0.5721\n",
            "Epoch 6/150\n",
            "224/224 [==============================] - 8s 34ms/step - loss: 0.6377 - accuracy: 0.6567 - val_loss: 0.6456 - val_accuracy: 0.6320\n",
            "Epoch 7/150\n",
            "224/224 [==============================] - 7s 33ms/step - loss: 0.6181 - accuracy: 0.6652 - val_loss: 0.7523 - val_accuracy: 0.5790\n",
            "Epoch 8/150\n",
            "224/224 [==============================] - 8s 34ms/step - loss: 0.6153 - accuracy: 0.6693 - val_loss: 0.6611 - val_accuracy: 0.6360\n",
            "Epoch 9/150\n",
            "224/224 [==============================] - 8s 34ms/step - loss: 0.6002 - accuracy: 0.6792 - val_loss: 0.9257 - val_accuracy: 0.5795\n",
            "Epoch 10/150\n",
            "224/224 [==============================] - 8s 34ms/step - loss: 0.5995 - accuracy: 0.6826 - val_loss: 0.5994 - val_accuracy: 0.6840\n",
            "Epoch 11/150\n",
            "224/224 [==============================] - 8s 34ms/step - loss: 0.5894 - accuracy: 0.6946 - val_loss: 0.5918 - val_accuracy: 0.6954\n",
            "Epoch 12/150\n",
            "224/224 [==============================] - 8s 34ms/step - loss: 0.5792 - accuracy: 0.6937 - val_loss: 0.6076 - val_accuracy: 0.6840\n",
            "Epoch 13/150\n",
            "224/224 [==============================] - 8s 34ms/step - loss: 0.5751 - accuracy: 0.7032 - val_loss: 0.5828 - val_accuracy: 0.6984\n",
            "Epoch 14/150\n",
            "224/224 [==============================] - 8s 34ms/step - loss: 0.5662 - accuracy: 0.7136 - val_loss: 0.6793 - val_accuracy: 0.6241\n",
            "Epoch 15/150\n",
            "224/224 [==============================] - 8s 34ms/step - loss: 0.5637 - accuracy: 0.7137 - val_loss: 0.6038 - val_accuracy: 0.6810\n",
            "Epoch 16/150\n",
            "224/224 [==============================] - 8s 34ms/step - loss: 0.5520 - accuracy: 0.7196 - val_loss: 0.9943 - val_accuracy: 0.6008\n",
            "Epoch 17/150\n",
            "224/224 [==============================] - 8s 34ms/step - loss: 0.5440 - accuracy: 0.7309 - val_loss: 0.7196 - val_accuracy: 0.6508\n",
            "Epoch 18/150\n",
            "224/224 [==============================] - 8s 34ms/step - loss: 0.5398 - accuracy: 0.7231 - val_loss: 0.5880 - val_accuracy: 0.6959\n",
            "Epoch 19/150\n",
            "224/224 [==============================] - 8s 34ms/step - loss: 0.5318 - accuracy: 0.7387 - val_loss: 0.6661 - val_accuracy: 0.6741\n",
            "Epoch 20/150\n",
            "224/224 [==============================] - 8s 34ms/step - loss: 0.5330 - accuracy: 0.7337 - val_loss: 0.5321 - val_accuracy: 0.7454\n",
            "Epoch 21/150\n",
            "224/224 [==============================] - 8s 37ms/step - loss: 0.5157 - accuracy: 0.7474 - val_loss: 0.5588 - val_accuracy: 0.7251\n",
            "Epoch 22/150\n",
            "224/224 [==============================] - 8s 34ms/step - loss: 0.5247 - accuracy: 0.7385 - val_loss: 0.5305 - val_accuracy: 0.7444\n",
            "Epoch 23/150\n",
            "224/224 [==============================] - 8s 34ms/step - loss: 0.5086 - accuracy: 0.7548 - val_loss: 0.7890 - val_accuracy: 0.6300\n",
            "Epoch 24/150\n",
            "224/224 [==============================] - 8s 34ms/step - loss: 0.5104 - accuracy: 0.7446 - val_loss: 0.6432 - val_accuracy: 0.6498\n",
            "Epoch 25/150\n",
            "224/224 [==============================] - 8s 34ms/step - loss: 0.5040 - accuracy: 0.7558 - val_loss: 0.9243 - val_accuracy: 0.6033\n",
            "Epoch 26/150\n",
            "224/224 [==============================] - 8s 34ms/step - loss: 0.4993 - accuracy: 0.7633 - val_loss: 0.8378 - val_accuracy: 0.5894\n",
            "Epoch 27/150\n",
            "224/224 [==============================] - 8s 34ms/step - loss: 0.5069 - accuracy: 0.7491 - val_loss: 0.7078 - val_accuracy: 0.6335\n",
            "Epoch 28/150\n",
            "224/224 [==============================] - 8s 34ms/step - loss: 0.4940 - accuracy: 0.7613 - val_loss: 0.7361 - val_accuracy: 0.6474\n",
            "Epoch 29/150\n",
            "224/224 [==============================] - 8s 34ms/step - loss: 0.4912 - accuracy: 0.7603 - val_loss: 0.5875 - val_accuracy: 0.7246\n",
            "Epoch 30/150\n",
            "224/224 [==============================] - 8s 35ms/step - loss: 0.4861 - accuracy: 0.7640 - val_loss: 0.5149 - val_accuracy: 0.7514\n",
            "Epoch 31/150\n",
            "224/224 [==============================] - 8s 34ms/step - loss: 0.4810 - accuracy: 0.7712 - val_loss: 0.6467 - val_accuracy: 0.6979\n",
            "Epoch 32/150\n",
            "224/224 [==============================] - 8s 34ms/step - loss: 0.4874 - accuracy: 0.7643 - val_loss: 0.5353 - val_accuracy: 0.7519\n",
            "Epoch 33/150\n",
            "224/224 [==============================] - 8s 34ms/step - loss: 0.4708 - accuracy: 0.7717 - val_loss: 0.6287 - val_accuracy: 0.6875\n",
            "Epoch 34/150\n",
            "224/224 [==============================] - 8s 35ms/step - loss: 0.4760 - accuracy: 0.7731 - val_loss: 0.4904 - val_accuracy: 0.7697\n",
            "Epoch 35/150\n",
            "224/224 [==============================] - 8s 34ms/step - loss: 0.4774 - accuracy: 0.7768 - val_loss: 0.7716 - val_accuracy: 0.6389\n",
            "Epoch 36/150\n",
            "224/224 [==============================] - 8s 34ms/step - loss: 0.4673 - accuracy: 0.7740 - val_loss: 0.5321 - val_accuracy: 0.7474\n",
            "Epoch 37/150\n",
            "224/224 [==============================] - 8s 34ms/step - loss: 0.4654 - accuracy: 0.7770 - val_loss: 1.0159 - val_accuracy: 0.5958\n",
            "Epoch 38/150\n",
            "224/224 [==============================] - 8s 34ms/step - loss: 0.4666 - accuracy: 0.7766 - val_loss: 0.6070 - val_accuracy: 0.6751\n",
            "Epoch 39/150\n",
            "224/224 [==============================] - 8s 35ms/step - loss: 0.4562 - accuracy: 0.7786 - val_loss: 0.4889 - val_accuracy: 0.7702\n",
            "Epoch 40/150\n",
            "224/224 [==============================] - 8s 34ms/step - loss: 0.4512 - accuracy: 0.7909 - val_loss: 0.6045 - val_accuracy: 0.7147\n",
            "Epoch 41/150\n",
            "224/224 [==============================] - 8s 34ms/step - loss: 0.4428 - accuracy: 0.7907 - val_loss: 0.5708 - val_accuracy: 0.7385\n",
            "Epoch 42/150\n",
            "224/224 [==============================] - 8s 34ms/step - loss: 0.4471 - accuracy: 0.7891 - val_loss: 0.5393 - val_accuracy: 0.7395\n",
            "Epoch 43/150\n",
            "224/224 [==============================] - 8s 34ms/step - loss: 0.4402 - accuracy: 0.7916 - val_loss: 0.9272 - val_accuracy: 0.6756\n",
            "Epoch 44/150\n",
            "224/224 [==============================] - 8s 34ms/step - loss: 0.4408 - accuracy: 0.7947 - val_loss: 0.6291 - val_accuracy: 0.7098\n",
            "Epoch 45/150\n",
            "224/224 [==============================] - 8s 34ms/step - loss: 0.4385 - accuracy: 0.7949 - val_loss: 0.5962 - val_accuracy: 0.7276\n",
            "Epoch 46/150\n",
            "224/224 [==============================] - 8s 34ms/step - loss: 0.4339 - accuracy: 0.7976 - val_loss: 0.5879 - val_accuracy: 0.7172\n",
            "Epoch 47/150\n",
            "224/224 [==============================] - 8s 38ms/step - loss: 0.4193 - accuracy: 0.8072 - val_loss: 0.4758 - val_accuracy: 0.7751\n",
            "Epoch 48/150\n",
            "224/224 [==============================] - 8s 37ms/step - loss: 0.4373 - accuracy: 0.8018 - val_loss: 0.5334 - val_accuracy: 0.7355\n",
            "Epoch 49/150\n",
            "224/224 [==============================] - 8s 34ms/step - loss: 0.4236 - accuracy: 0.8040 - val_loss: 0.5336 - val_accuracy: 0.7484\n",
            "Epoch 50/150\n",
            "224/224 [==============================] - 8s 34ms/step - loss: 0.4301 - accuracy: 0.8011 - val_loss: 0.5282 - val_accuracy: 0.7509\n",
            "Epoch 51/150\n",
            "224/224 [==============================] - 8s 34ms/step - loss: 0.4189 - accuracy: 0.8061 - val_loss: 0.4928 - val_accuracy: 0.7732\n",
            "Epoch 52/150\n",
            "224/224 [==============================] - 8s 34ms/step - loss: 0.4123 - accuracy: 0.8095 - val_loss: 0.6135 - val_accuracy: 0.6944\n",
            "Epoch 53/150\n",
            "224/224 [==============================] - 8s 34ms/step - loss: 0.4051 - accuracy: 0.8130 - val_loss: 0.5970 - val_accuracy: 0.7018\n",
            "Epoch 54/150\n",
            "224/224 [==============================] - 8s 34ms/step - loss: 0.4004 - accuracy: 0.8200 - val_loss: 0.5305 - val_accuracy: 0.7628\n",
            "Epoch 55/150\n",
            "224/224 [==============================] - 8s 34ms/step - loss: 0.4070 - accuracy: 0.8079 - val_loss: 0.6154 - val_accuracy: 0.7137\n",
            "Epoch 56/150\n",
            "224/224 [==============================] - 8s 34ms/step - loss: 0.4050 - accuracy: 0.8109 - val_loss: 0.7243 - val_accuracy: 0.7177\n",
            "Epoch 57/150\n",
            "224/224 [==============================] - 8s 34ms/step - loss: 0.3973 - accuracy: 0.8243 - val_loss: 0.7430 - val_accuracy: 0.6820\n",
            "Epoch 58/150\n",
            "224/224 [==============================] - 8s 34ms/step - loss: 0.4000 - accuracy: 0.8247 - val_loss: 0.5350 - val_accuracy: 0.7598\n",
            "Epoch 59/150\n",
            "224/224 [==============================] - 8s 34ms/step - loss: 0.3873 - accuracy: 0.8236 - val_loss: 0.5308 - val_accuracy: 0.7578\n",
            "Epoch 60/150\n",
            "224/224 [==============================] - 8s 34ms/step - loss: 0.3875 - accuracy: 0.8214 - val_loss: 0.6113 - val_accuracy: 0.7538\n",
            "Epoch 61/150\n",
            "224/224 [==============================] - 8s 34ms/step - loss: 0.3838 - accuracy: 0.8318 - val_loss: 2.4999 - val_accuracy: 0.5681\n",
            "Epoch 62/150\n",
            "224/224 [==============================] - 8s 35ms/step - loss: 0.3848 - accuracy: 0.8272 - val_loss: 0.4586 - val_accuracy: 0.7855\n",
            "Epoch 63/150\n",
            "224/224 [==============================] - 8s 34ms/step - loss: 0.3787 - accuracy: 0.8265 - val_loss: 0.5141 - val_accuracy: 0.7727\n",
            "Epoch 64/150\n",
            "224/224 [==============================] - 8s 35ms/step - loss: 0.3729 - accuracy: 0.8366 - val_loss: 0.5521 - val_accuracy: 0.7717\n",
            "Epoch 65/150\n",
            "224/224 [==============================] - 8s 34ms/step - loss: 0.3768 - accuracy: 0.8282 - val_loss: 0.6163 - val_accuracy: 0.7316\n",
            "Epoch 66/150\n",
            "224/224 [==============================] - 8s 34ms/step - loss: 0.3765 - accuracy: 0.8309 - val_loss: 0.6922 - val_accuracy: 0.7147\n",
            "Epoch 67/150\n",
            "224/224 [==============================] - 8s 35ms/step - loss: 0.3703 - accuracy: 0.8353 - val_loss: 0.5108 - val_accuracy: 0.7618\n",
            "Epoch 68/150\n",
            "224/224 [==============================] - 8s 34ms/step - loss: 0.3591 - accuracy: 0.8405 - val_loss: 0.6323 - val_accuracy: 0.6954\n",
            "Epoch 69/150\n",
            "224/224 [==============================] - 8s 34ms/step - loss: 0.3682 - accuracy: 0.8391 - val_loss: 1.1582 - val_accuracy: 0.6340\n",
            "Epoch 70/150\n",
            "224/224 [==============================] - 8s 34ms/step - loss: 0.3593 - accuracy: 0.8409 - val_loss: 0.6466 - val_accuracy: 0.7013\n",
            "Epoch 71/150\n",
            "224/224 [==============================] - 8s 34ms/step - loss: 0.3527 - accuracy: 0.8423 - val_loss: 0.4776 - val_accuracy: 0.7855\n",
            "Epoch 72/150\n",
            "224/224 [==============================] - 8s 34ms/step - loss: 0.3645 - accuracy: 0.8356 - val_loss: 0.6102 - val_accuracy: 0.7479\n",
            "Epoch 73/150\n",
            "224/224 [==============================] - 8s 34ms/step - loss: 0.3555 - accuracy: 0.8398 - val_loss: 0.7387 - val_accuracy: 0.6790\n",
            "Epoch 74/150\n",
            "224/224 [==============================] - 8s 35ms/step - loss: 0.3592 - accuracy: 0.8386 - val_loss: 0.4901 - val_accuracy: 0.7821\n",
            "Epoch 75/150\n",
            "224/224 [==============================] - 8s 34ms/step - loss: 0.3453 - accuracy: 0.8448 - val_loss: 0.4935 - val_accuracy: 0.7727\n",
            "Epoch 76/150\n",
            "224/224 [==============================] - 8s 34ms/step - loss: 0.3408 - accuracy: 0.8516 - val_loss: 0.8738 - val_accuracy: 0.7162\n",
            "Epoch 77/150\n",
            "224/224 [==============================] - 8s 34ms/step - loss: 0.3376 - accuracy: 0.8520 - val_loss: 0.4974 - val_accuracy: 0.7841\n",
            "Epoch 78/150\n",
            "224/224 [==============================] - 8s 34ms/step - loss: 0.3438 - accuracy: 0.8502 - val_loss: 0.8481 - val_accuracy: 0.7152\n",
            "Epoch 79/150\n",
            "224/224 [==============================] - 8s 37ms/step - loss: 0.3480 - accuracy: 0.8423 - val_loss: 0.5001 - val_accuracy: 0.7717\n",
            "Epoch 80/150\n",
            "224/224 [==============================] - 8s 34ms/step - loss: 0.3314 - accuracy: 0.8559 - val_loss: 0.5348 - val_accuracy: 0.7598\n",
            "Epoch 81/150\n",
            "224/224 [==============================] - 8s 34ms/step - loss: 0.3398 - accuracy: 0.8525 - val_loss: 0.5585 - val_accuracy: 0.7776\n",
            "Epoch 82/150\n",
            "224/224 [==============================] - 8s 34ms/step - loss: 0.3283 - accuracy: 0.8535 - val_loss: 0.6278 - val_accuracy: 0.7320\n",
            "Epoch 83/150\n",
            "224/224 [==============================] - 8s 35ms/step - loss: 0.3290 - accuracy: 0.8573 - val_loss: 0.4569 - val_accuracy: 0.7994\n",
            "Epoch 84/150\n",
            "224/224 [==============================] - 8s 34ms/step - loss: 0.3200 - accuracy: 0.8591 - val_loss: 0.5708 - val_accuracy: 0.7325\n",
            "Epoch 85/150\n",
            "224/224 [==============================] - 8s 35ms/step - loss: 0.3270 - accuracy: 0.8529 - val_loss: 0.6098 - val_accuracy: 0.7484\n",
            "Epoch 86/150\n",
            "224/224 [==============================] - 8s 35ms/step - loss: 0.3189 - accuracy: 0.8616 - val_loss: 0.6215 - val_accuracy: 0.7598\n",
            "Epoch 87/150\n",
            "224/224 [==============================] - 8s 35ms/step - loss: 0.3134 - accuracy: 0.8639 - val_loss: 0.5800 - val_accuracy: 0.7439\n",
            "Epoch 88/150\n",
            "224/224 [==============================] - 8s 35ms/step - loss: 0.3168 - accuracy: 0.8609 - val_loss: 0.6426 - val_accuracy: 0.7316\n",
            "Epoch 89/150\n",
            "224/224 [==============================] - 8s 35ms/step - loss: 0.3124 - accuracy: 0.8653 - val_loss: 0.5223 - val_accuracy: 0.7623\n",
            "Epoch 90/150\n",
            "224/224 [==============================] - 8s 35ms/step - loss: 0.3148 - accuracy: 0.8632 - val_loss: 1.0927 - val_accuracy: 0.6523\n",
            "Epoch 91/150\n",
            "224/224 [==============================] - 8s 37ms/step - loss: 0.3090 - accuracy: 0.8699 - val_loss: 1.0455 - val_accuracy: 0.6503\n",
            "Epoch 92/150\n",
            "224/224 [==============================] - 8s 35ms/step - loss: 0.3054 - accuracy: 0.8682 - val_loss: 0.5526 - val_accuracy: 0.7796\n",
            "Epoch 93/150\n",
            "224/224 [==============================] - 8s 35ms/step - loss: 0.3162 - accuracy: 0.8680 - val_loss: 0.7308 - val_accuracy: 0.7608\n",
            "Epoch 94/150\n",
            "224/224 [==============================] - 8s 35ms/step - loss: 0.3012 - accuracy: 0.8697 - val_loss: 0.5678 - val_accuracy: 0.7593\n",
            "Epoch 95/150\n",
            "224/224 [==============================] - 8s 35ms/step - loss: 0.3061 - accuracy: 0.8672 - val_loss: 0.5815 - val_accuracy: 0.7335\n",
            "Epoch 96/150\n",
            "224/224 [==============================] - 8s 35ms/step - loss: 0.3023 - accuracy: 0.8678 - val_loss: 0.6005 - val_accuracy: 0.7543\n",
            "Epoch 97/150\n",
            "224/224 [==============================] - 8s 35ms/step - loss: 0.3001 - accuracy: 0.8666 - val_loss: 0.5215 - val_accuracy: 0.7880\n",
            "Epoch 98/150\n",
            "224/224 [==============================] - 8s 37ms/step - loss: 0.2939 - accuracy: 0.8694 - val_loss: 0.5144 - val_accuracy: 0.7816\n",
            "Epoch 99/150\n",
            "224/224 [==============================] - 8s 35ms/step - loss: 0.2922 - accuracy: 0.8755 - val_loss: 1.1922 - val_accuracy: 0.6890\n",
            "Epoch 100/150\n",
            "224/224 [==============================] - 8s 35ms/step - loss: 0.2866 - accuracy: 0.8750 - val_loss: 0.7763 - val_accuracy: 0.7157\n",
            "Epoch 101/150\n",
            "224/224 [==============================] - 8s 35ms/step - loss: 0.2886 - accuracy: 0.8782 - val_loss: 0.5038 - val_accuracy: 0.7895\n",
            "Epoch 102/150\n",
            "224/224 [==============================] - 8s 35ms/step - loss: 0.2837 - accuracy: 0.8809 - val_loss: 0.6191 - val_accuracy: 0.7875\n",
            "Epoch 103/150\n",
            "224/224 [==============================] - 8s 37ms/step - loss: 0.2795 - accuracy: 0.8756 - val_loss: 0.5453 - val_accuracy: 0.7816\n",
            "Epoch 104/150\n",
            "224/224 [==============================] - 8s 35ms/step - loss: 0.2850 - accuracy: 0.8762 - val_loss: 0.5648 - val_accuracy: 0.7935\n",
            "Epoch 105/150\n",
            "224/224 [==============================] - 8s 35ms/step - loss: 0.2730 - accuracy: 0.8810 - val_loss: 0.5421 - val_accuracy: 0.7702\n",
            "Epoch 106/150\n",
            "224/224 [==============================] - 8s 35ms/step - loss: 0.2778 - accuracy: 0.8809 - val_loss: 0.5101 - val_accuracy: 0.8009\n",
            "Epoch 107/150\n",
            "224/224 [==============================] - 8s 35ms/step - loss: 0.2805 - accuracy: 0.8805 - val_loss: 0.6129 - val_accuracy: 0.7836\n",
            "Epoch 108/150\n",
            "224/224 [==============================] - 8s 35ms/step - loss: 0.2747 - accuracy: 0.8843 - val_loss: 0.7496 - val_accuracy: 0.7464\n",
            "Epoch 109/150\n",
            "224/224 [==============================] - 9s 38ms/step - loss: 0.2761 - accuracy: 0.8844 - val_loss: 0.7320 - val_accuracy: 0.7727\n",
            "Epoch 110/150\n",
            "224/224 [==============================] - 8s 35ms/step - loss: 0.2645 - accuracy: 0.8858 - val_loss: 0.6585 - val_accuracy: 0.7172\n",
            "Epoch 111/150\n",
            "224/224 [==============================] - 8s 35ms/step - loss: 0.2693 - accuracy: 0.8836 - val_loss: 0.5825 - val_accuracy: 0.7766\n",
            "Epoch 112/150\n",
            "224/224 [==============================] - 8s 35ms/step - loss: 0.2616 - accuracy: 0.8878 - val_loss: 0.8677 - val_accuracy: 0.7454\n",
            "Epoch 113/150\n",
            "224/224 [==============================] - 8s 34ms/step - loss: 0.2672 - accuracy: 0.8885 - val_loss: 0.5451 - val_accuracy: 0.7940\n",
            "Epoch 114/150\n",
            "224/224 [==============================] - 8s 34ms/step - loss: 0.2620 - accuracy: 0.8894 - val_loss: 0.5891 - val_accuracy: 0.7732\n",
            "Epoch 115/150\n",
            "224/224 [==============================] - 8s 35ms/step - loss: 0.2628 - accuracy: 0.8889 - val_loss: 0.7086 - val_accuracy: 0.7291\n",
            "Epoch 116/150\n",
            "224/224 [==============================] - 8s 34ms/step - loss: 0.2564 - accuracy: 0.8929 - val_loss: 0.6196 - val_accuracy: 0.7618\n",
            "Epoch 117/150\n",
            "224/224 [==============================] - 8s 35ms/step - loss: 0.2584 - accuracy: 0.8939 - val_loss: 0.5047 - val_accuracy: 0.8217\n",
            "Epoch 118/150\n",
            "224/224 [==============================] - 8s 34ms/step - loss: 0.2497 - accuracy: 0.8954 - val_loss: 0.7868 - val_accuracy: 0.7707\n",
            "Epoch 119/150\n",
            "224/224 [==============================] - 8s 34ms/step - loss: 0.2523 - accuracy: 0.8943 - val_loss: 0.5870 - val_accuracy: 0.7930\n",
            "Epoch 120/150\n",
            "224/224 [==============================] - 8s 35ms/step - loss: 0.2646 - accuracy: 0.8868 - val_loss: 0.5378 - val_accuracy: 0.7954\n",
            "Epoch 121/150\n",
            "224/224 [==============================] - 8s 34ms/step - loss: 0.2463 - accuracy: 0.8954 - val_loss: 0.5418 - val_accuracy: 0.8063\n",
            "Epoch 122/150\n",
            "224/224 [==============================] - 8s 34ms/step - loss: 0.2414 - accuracy: 0.9006 - val_loss: 0.5254 - val_accuracy: 0.8004\n",
            "Epoch 123/150\n",
            "224/224 [==============================] - 8s 34ms/step - loss: 0.2382 - accuracy: 0.9005 - val_loss: 0.6206 - val_accuracy: 0.7781\n",
            "Epoch 124/150\n",
            "224/224 [==============================] - 8s 38ms/step - loss: 0.2401 - accuracy: 0.8996 - val_loss: 0.5456 - val_accuracy: 0.7860\n",
            "Epoch 125/150\n",
            "224/224 [==============================] - 8s 35ms/step - loss: 0.2429 - accuracy: 0.8999 - val_loss: 0.5098 - val_accuracy: 0.7954\n",
            "Epoch 126/150\n",
            "224/224 [==============================] - 8s 35ms/step - loss: 0.2419 - accuracy: 0.8975 - val_loss: 0.5085 - val_accuracy: 0.8148\n",
            "Epoch 127/150\n",
            "224/224 [==============================] - 8s 35ms/step - loss: 0.2366 - accuracy: 0.9029 - val_loss: 0.5707 - val_accuracy: 0.8044\n",
            "Epoch 128/150\n",
            "224/224 [==============================] - 8s 35ms/step - loss: 0.2310 - accuracy: 0.9051 - val_loss: 0.6105 - val_accuracy: 0.7771\n",
            "Epoch 129/150\n",
            "224/224 [==============================] - 8s 35ms/step - loss: 0.2311 - accuracy: 0.8998 - val_loss: 0.5493 - val_accuracy: 0.8128\n",
            "Epoch 130/150\n",
            "224/224 [==============================] - 9s 38ms/step - loss: 0.2311 - accuracy: 0.9058 - val_loss: 0.5837 - val_accuracy: 0.7811\n",
            "Epoch 131/150\n",
            "224/224 [==============================] - 8s 35ms/step - loss: 0.2212 - accuracy: 0.9101 - val_loss: 0.6192 - val_accuracy: 0.8044\n",
            "Epoch 132/150\n",
            "224/224 [==============================] - 8s 35ms/step - loss: 0.2339 - accuracy: 0.9058 - val_loss: 0.5432 - val_accuracy: 0.7989\n",
            "Epoch 133/150\n",
            "224/224 [==============================] - 8s 35ms/step - loss: 0.2144 - accuracy: 0.9140 - val_loss: 0.6922 - val_accuracy: 0.7905\n",
            "Epoch 134/150\n",
            "224/224 [==============================] - 8s 35ms/step - loss: 0.2279 - accuracy: 0.9049 - val_loss: 0.5646 - val_accuracy: 0.7850\n",
            "Epoch 135/150\n",
            "224/224 [==============================] - 8s 35ms/step - loss: 0.2202 - accuracy: 0.9121 - val_loss: 0.6071 - val_accuracy: 0.7880\n",
            "Epoch 136/150\n",
            "224/224 [==============================] - 8s 35ms/step - loss: 0.2158 - accuracy: 0.9100 - val_loss: 0.5670 - val_accuracy: 0.7821\n",
            "Epoch 137/150\n",
            "224/224 [==============================] - 8s 35ms/step - loss: 0.2182 - accuracy: 0.9122 - val_loss: 1.3570 - val_accuracy: 0.6840\n",
            "Epoch 138/150\n",
            "224/224 [==============================] - 8s 35ms/step - loss: 0.2122 - accuracy: 0.9129 - val_loss: 2.7296 - val_accuracy: 0.6756\n",
            "Epoch 139/150\n",
            "224/224 [==============================] - 8s 35ms/step - loss: 0.2203 - accuracy: 0.9070 - val_loss: 0.5421 - val_accuracy: 0.8039\n",
            "Epoch 140/150\n",
            "224/224 [==============================] - 8s 35ms/step - loss: 0.2185 - accuracy: 0.9103 - val_loss: 0.6566 - val_accuracy: 0.7806\n",
            "Epoch 141/150\n",
            "224/224 [==============================] - 8s 35ms/step - loss: 0.2099 - accuracy: 0.9124 - val_loss: 0.5434 - val_accuracy: 0.8009\n",
            "Epoch 142/150\n",
            "224/224 [==============================] - 8s 35ms/step - loss: 0.2170 - accuracy: 0.9149 - val_loss: 0.5359 - val_accuracy: 0.8039\n",
            "Epoch 143/150\n",
            "224/224 [==============================] - 8s 35ms/step - loss: 0.2025 - accuracy: 0.9193 - val_loss: 0.6437 - val_accuracy: 0.7984\n",
            "Epoch 144/150\n",
            "224/224 [==============================] - 9s 38ms/step - loss: 0.2113 - accuracy: 0.9124 - val_loss: 0.7211 - val_accuracy: 0.7484\n",
            "Epoch 145/150\n",
            "224/224 [==============================] - 8s 35ms/step - loss: 0.2076 - accuracy: 0.9105 - val_loss: 0.6284 - val_accuracy: 0.7860\n",
            "Epoch 146/150\n",
            "224/224 [==============================] - 8s 35ms/step - loss: 0.2030 - accuracy: 0.9203 - val_loss: 0.6093 - val_accuracy: 0.7841\n",
            "Epoch 147/150\n",
            "224/224 [==============================] - 8s 35ms/step - loss: 0.2003 - accuracy: 0.9170 - val_loss: 0.6443 - val_accuracy: 0.7905\n",
            "Epoch 148/150\n",
            "224/224 [==============================] - 8s 36ms/step - loss: 0.2048 - accuracy: 0.9145 - val_loss: 1.2531 - val_accuracy: 0.7360\n",
            "Epoch 149/150\n",
            "224/224 [==============================] - 8s 35ms/step - loss: 0.2005 - accuracy: 0.9178 - val_loss: 0.7210 - val_accuracy: 0.7672\n",
            "Epoch 150/150\n",
            "224/224 [==============================] - 8s 35ms/step - loss: 0.1996 - accuracy: 0.9228 - val_loss: 0.6061 - val_accuracy: 0.7949\n"
          ]
        }
      ],
      "source": [
        "import tensorflow.keras as keras\n",
        "\n",
        "model.compile(optimizer=\"rmsprop\", loss='binary_crossentropy', metrics=['accuracy'])\n",
        "\n",
        "batch_size = 32\n",
        "epochs = 150\n",
        "\n",
        "X_train, X_test, X_val, y_train, y_test, y_val = create_dataset(X, y)\n",
        "\n",
        "checkpoint_filepath = \"checkpoint_filepath.keras\"\n",
        "\n",
        "callbacks = [\n",
        "    keras.callbacks.ModelCheckpoint(filepath=checkpoint_filepath,\n",
        "                                    save_best_only=True,\n",
        "                                    monitor=\"val_loss\")\n",
        "]\n",
        "\n",
        "history = model.fit(X_train, y_train,\n",
        "                    epochs=epochs,\n",
        "                    validation_data=(X_val, y_val),\n",
        "                    batch_size=batch_size,\n",
        "                    callbacks=callbacks)\n",
        "\n",
        "model.save_weights(os.path.join(f_models, weight_filename))\n"
      ]
    },
    {
      "cell_type": "code",
      "execution_count": 100,
      "metadata": {
        "colab": {
          "base_uri": "https://localhost:8080/",
          "height": 545
        },
        "id": "rLm_UvRw6p1C",
        "outputId": "96c790f1-6c08-4913-a82e-e8c236e29786"
      },
      "outputs": [
        {
          "data": {
            "image/png": "[encoded data removed]",
            "text/plain": [
              "<Figure size 432x288 with 1 Axes>"
            ]
          },
          "metadata": {
            "needs_background": "light"
          },
          "output_type": "display_data"
        },
        {
          "data": {
            "image/png": "[encoded data removed]",
            "text/plain": [
              "<Figure size 432x288 with 1 Axes>"
            ]
          },
          "metadata": {
            "needs_background": "light"
          },
          "output_type": "display_data"
        }
      ],
      "source": [
        "import matplotlib.pyplot as plt\n",
        "\n",
        "acc = history.history[\"accuracy\"]\n",
        "val_acc = history.history[\"val_accuracy\"]\n",
        "loss = history.history[\"loss\"]\n",
        "val_loss = history.history[\"val_loss\"]\n",
        "epochs = range(1, len(acc) + 1)\n",
        "\n",
        "plt.plot(epochs, acc, \"bo\", label=\"Training accuracy\")\n",
        "plt.plot(epochs, val_acc, \"b\", label=\"Validation accuracy\")\n",
        "plt.title(\"Training and validation accuracy\")\n",
        "plt.legend()\n",
        "plt.figure()\n",
        "\n",
        "plt.plot(epochs, loss, \"bo\", label=\"Training loss\")\n",
        "plt.plot(epochs, val_loss, \"b\", label=\"Validation loss\")\n",
        "plt.title(\"Training and validation loss\")\n",
        "plt.legend()\n",
        "\n",
        "plt.show()"
      ]
    },
    {
      "cell_type": "code",
      "execution_count": 101,
      "metadata": {
        "colab": {
          "base_uri": "https://localhost:8080/"
        },
        "id": "yAHEQxXZ7how",
        "outputId": "64052841-1a78-4530-f2e3-260a4f283a21"
      },
      "outputs": [
        {
          "name": "stdout",
          "output_type": "stream",
          "text": [
            "32/32 [==============================] - 1s 11ms/step - loss: 0.4182 - accuracy: 0.8157\n",
            "Test accuracy: 0.816\n"
          ]
        }
      ],
      "source": [
        "test_model = keras.models.load_model(checkpoint_filepath)\n",
        "test_loss, test_acc = test_model.evaluate(X_test, y_test)\n",
        "print(f\"Test accuracy: {test_acc:.3f}\")"
      ]
    }
  ],
  "metadata": {
    "accelerator": "GPU",
    "colab": {
      "collapsed_sections": [],
      "name": "akimoto_v1.ipynb",
      "provenance": []
    },
    "kernelspec": {
      "display_name": "Python 3",
      "name": "python3"
    },
    "language_info": {
      "name": "python"
    }
  },
  "nbformat": 4,
  "nbformat_minor": 0
}
